{
  "nbformat": 4,
  "nbformat_minor": 0,
  "metadata": {
    "colab": {
      "provenance": [],
      "authorship_tag": "ABX9TyNgRhekGm0+s/OG7dE4qAzm",
      "include_colab_link": true
    },
    "kernelspec": {
      "name": "python3",
      "display_name": "Python 3"
    },
    "language_info": {
      "name": "python"
    }
  },
  "cells": [
    {
      "cell_type": "markdown",
      "metadata": {
        "id": "view-in-github",
        "colab_type": "text"
      },
      "source": [
        "<a href=\"https://colab.research.google.com/github/akhiluthappa1/advice-gen/blob/master/Akhil_Uthappa_Fashion_dataset_Assignment_4.ipynb\" target=\"_parent\"><img src=\"https://colab.research.google.com/assets/colab-badge.svg\" alt=\"Open In Colab\"/></a>"
      ]
    },
    {
      "cell_type": "code",
      "source": [
        "import pandas as pd\n",
        "import numpy as np\n",
        "\n",
        "df = pd.read_csv(\"/content/FashionDataset.csv\", sep=\",\")\n",
        "print(df[:500].to_string()) "
      ],
      "metadata": {
        "colab": {
          "base_uri": "https://localhost:8080/"
        },
        "id": "sZY3l21BVpB8",
        "outputId": "0806a2e8-6bae-4128-b659-0824e0b475a6"
      },
      "execution_count": null,
      "outputs": [
        {
          "output_type": "stream",
          "name": "stdout",
          "text": [
            "     Unnamed: 0               BrandName                                                                         Deatils                                                Sizes       MRP SellPrice Discount           Category\n",
            "0             0                    life                     solid cotton blend collar neck womens a-line dress - indigo              Size:Large,Medium,Small,X-Large,X-Small  Rs\\n1699       849  50% off  Westernwear-Women\n",
            "1             1                    only                        polyester peter pan collar womens blouson dress - yellow                                     Size:34,36,38,40  Rs\\n3499      2449  30% off  Westernwear-Women\n",
            "2             2                 fratini                  solid polyester blend wide neck womens regular top - off white                          Size:Large,X-Large,XX-Large  Rs\\n1199       599  50% off  Westernwear-Women\n",
            "3             3             zink london                          stripes polyester sweetheart neck womens dress - black                      Size:Large,Medium,Small,X-Large  Rs\\n2299      1379  40% off  Westernwear-Women\n",
            "4             4                    life                           regular fit regular length denim womens jeans - stone                               Size:26,28,30,32,34,36  Rs\\n1699       849  50% off  Westernwear-Women\n",
            "5             5                   kraus                              wide ankle length cotton womens jeans - light blue                                  Size:26,28,30,32,34  Rs\\n1795      1615  10% off  Westernwear-Women\n",
            "6             6                    life                      printed cotton blend collared womens regular dress - white              Size:Large,Medium,Small,X-Large,X-Small  Rs\\n1299       649  50% off  Westernwear-Women\n",
            "7             7                 fratini                      embroidered wide neck polyester womens regular top - blush                                        Size:XX-Large  Rs\\n1299       649  50% off  Westernwear-Women\n",
            "8             8                    rare                              floral polyester v neck womens flared dress - navy                      Size:Large,Medium,Small,X-Large  Rs\\n2099       839  60% off  Westernwear-Women\n",
            "9             9                    rare                              checks cotton boat neck womens regular top - black                            Size:Medium,Small,X-Large  Rs\\n1499       599  60% off  Westernwear-Women\n",
            "10           10                    life                            solid square neck cotton womens regular dress - pink              Size:Large,Medium,Small,X-Large,X-Small  Rs\\n1499       749  50% off  Westernwear-Women\n",
            "11           11                    life                          regular fit regular length denim womens jeans - indigo                               Size:26,28,30,32,34,36   Rs\\n999       499  50% off  Westernwear-Women\n",
            "12           12                    life                          printed blended round neck womens shift dress - orange              Size:Large,Medium,Small,X-Large,X-Small  Rs\\n1499       749  50% off  Westernwear-Women\n",
            "13           13                    life                                printed jersey round neck womens t-shirt - black              Size:Large,Medium,Small,X-Large,X-Small   Rs\\n599       299  50% off  Westernwear-Women\n",
            "14           14                    life                                     printed crepe square neck womens top - blue              Size:Large,Medium,Small,X-Large,X-Small   Rs\\n999       499  50% off  Westernwear-Women\n",
            "15           15                    life                                    solid cotton collar neck womens shirt - pink              Size:Large,Medium,Small,X-Large,X-Small  Rs\\n1199       599  50% off  Westernwear-Women\n",
            "16           16                    life                            solid cotton lycra round neck womens t-shirt - white                      Size:Large,Medium,Small,X-Small   Rs\\n599       299  50% off  Westernwear-Women\n",
            "17           17                    life                                 printed cotton collar neck womens shirt - white              Size:Large,Medium,Small,X-Large,X-Small  Rs\\n1299       649  50% off  Westernwear-Women\n",
            "18           18              van heusen                                solid cotton v neck womens formal shirt - maroon                             Size:Large,Small,X-Small  Rs\\n1999       799  60% off  Westernwear-Women\n",
            "19           19                    life                       regular fit regular length denim womens jeans - mid stone                               Size:26,28,30,32,34,36  Rs\\n1999       999  50% off  Westernwear-Women\n",
            "20           20                 fratini                           solid round neck viscose womens regular dress - olive             Size:Large,Medium,Small,X-Large,XX-Large  Rs\\n1499       749  50% off  Westernwear-Women\n",
            "21           21                    life                               solid wide neck viscose womens regular top - blue              Size:Large,Medium,Small,X-Large,X-Small  Rs\\n1299       649  50% off  Westernwear-Women\n",
            "22           22                     Nan                                                                             Nan                                                  Nan       Nan       Nan      Nan  Westernwear-Women\n",
            "23           23                    stop                          printed regular neck cotton womens formal shirt - ecru             Size:Large,Medium,Small,X-Large,XX-Large   Rs\\n799       399  50% off  Westernwear-Women\n",
            "24           24                    life                       regular fit regular length denim womens jeans - mid stone                               Size:26,28,30,32,34,36  Rs\\n1999       999  50% off  Westernwear-Women\n",
            "25           25             zink london                             floral viscose sweetheart neck womens dress - green                   Size:Medium,Small,X-Small,XX-Large  Rs\\n2799      1679  40% off  Westernwear-Women\n",
            "26            0                    life                     printed viscose v neck womens regular woven top - off white              Size:Large,Medium,Small,X-Large,X-Small  Rs\\n1199       599  50% off  Westernwear-Women\n",
            "27            1                    life                                   printed cotton blend v neck womens top - pink              Size:Large,Medium,Small,X-Large,X-Small   Rs\\n999       499  50% off  Westernwear-Women\n",
            "28            2                  zink z                                   solid cotton blend v neck womens top - maroon              Size:Large,Medium,Small,X-Large,X-Small       Nan      1299      Nan  Westernwear-Women\n",
            "29            3                    stop                         printed regular neck cotton womens formal shirt - black             Size:Large,Medium,Small,X-Large,XX-Large   Rs\\n899       449  50% off  Westernwear-Women\n",
            "30            4                    life                          printed cotton blend round neck womens t-shirt - white              Size:Large,Medium,Small,X-Large,X-Small   Rs\\n999       499  50% off  Westernwear-Women\n",
            "31            5                    life                      embroidered viscose square neck womens regular top - white              Size:Large,Medium,Small,X-Large,X-Small  Rs\\n1199       599  50% off  Westernwear-Women\n",
            "32            6                    life                          regular fit regular length denim womens jeans - indigo                        Size:26,28,30,32,34,36,Medium  Rs\\n1699       849  50% off  Westernwear-Women\n",
            "33            7                    life                       printed cotton lycra round neck womens t-shirt - pink mix              Size:Large,Medium,Small,X-Large,X-Small   Rs\\n699       349  50% off  Westernwear-Women\n",
            "34            8             cover story                       solid round neck cotton womens regular dress - dark brown              Size:Large,Medium,Small,X-Large,X-Small  Rs\\n2890      1445  50% off  Westernwear-Women\n",
            "35            9                  infuse                                   printed square neck rayon womens dress - pink              Size:Large,Medium,Small,X-Large,X-Small  Rs\\n1999       999  50% off  Westernwear-Women\n",
            "36           10                 fratini                  printed polyester blend round neck womens a-line dress - white             Size:Large,Medium,Small,X-Large,XX-Large       Nan      1799      Nan  Westernwear-Women\n",
            "37           11             allen solly                                 solid rayon regular fit womens trousers - black                               Size:26,28,30,32,34,36  Rs\\n1299      1039  20% off  Westernwear-Women\n",
            "38           12                  infuse            regular fit regular length cotton womens loungewear short set - pink                      Size:Large,Medium,Small,X-Small   Rs\\n899       359  60% off  Westernwear-Women\n",
            "39           13              van heusen                                solid polyester collar neck womens shirt - black              Size:Large,Medium,Small,X-Large,X-Small  Rs\\n1699       999  41% off  Westernwear-Women\n",
            "40           14                    life                              solid viscose round neck womens regular top - sage              Size:Large,Medium,Small,X-Large,X-Small   Rs\\n999       499  50% off  Westernwear-Women\n",
            "41           15             cover story                               printed polyester round neck womens dress - black                    Size:Medium,Small,X-Large,X-Small  Rs\\n4490      3143  30% off  Westernwear-Women\n",
            "42           16                    life                         printed collar neck polyester womens regular top - navy              Size:Large,Medium,Small,X-Large,X-Small   Rs\\n999       499  50% off  Westernwear-Women\n",
            "43           17             zink london                                  lace polyester round neck womens dress - green                      Size:Large,Medium,Small,X-Large  Rs\\n3299      1979  40% off  Westernwear-Women\n",
            "44           18                    stop                               solid viscose v-neck womens regular top - mustard                     Size:Large,Medium,Small,XX-Large   Rs\\n999       499  50% off  Westernwear-Women\n",
            "45           19                 fratini                         printed v-neck polyester womens regular dress - natural             Size:Large,Medium,Small,X-Large,XX-Large  Rs\\n1899       949  50% off  Westernwear-Women\n",
            "46           20                    rare                       floral polyester off shoulder womens flared dress - black                      Size:Large,Medium,Small,X-Large  Rs\\n1899       854  55% off  Westernwear-Women\n",
            "47           21                    life                           printed viscose wide neck womens regular dress - pink              Size:Large,Medium,Small,X-Large,X-Small  Rs\\n1299       649  50% off  Westernwear-Women\n",
            "48           22                     Nan                                                                             Nan                                                  Nan       Nan       Nan      Nan  Westernwear-Women\n",
            "49           23                 altlife           printed skinny fit cotton blend womens active wear track pants - grey                                  Size:28,30,32,34,36   Rs\\n999       499  50% off  Westernwear-Women\n",
            "50           24                    stop                    printed regular neck cotton womens formal shirt - blue denim                   Size:Medium,Small,X-Small,XX-Large   Rs\\n899       449  50% off  Westernwear-Women\n",
            "51           25                    life                           regular fit regular length denim womens jeans - olive                               Size:26,28,30,32,34,36  Rs\\n1999       999  50% off  Westernwear-Women\n",
            "52            0                    rare                           solid polyester round neck womens a-line dress - navy                      Size:Large,Medium,Small,X-Large  Rs\\n1499       674  55% off  Westernwear-Women\n",
            "53            1             zink london                                      solid polyester v neck womens top - yellow     Size:Large,Medium,Small,X-Large,X-Small,XX-Large  Rs\\n1399       839  40% off  Westernwear-Women\n",
            "54            2                    life                           printed cotton blend collar neck womens t-shirt - red              Size:Large,Medium,Small,X-Large,X-Small   Rs\\n999       499  50% off  Westernwear-Women\n",
            "55            3                  madame                        printed polyester blend square neck womens dress - green             Size:Large,Medium,Small,X-Large,XX-Large  Rs\\n2699      1619  40% off  Westernwear-Women\n",
            "56            4             zink london                     solid polyester scoop neck womens bodycon dress - baby pink     Size:Large,Medium,Small,X-Large,X-Small,XX-Large  Rs\\n2499      1499  40% off  Westernwear-Women\n",
            "57            5                    rare                              floral polyester v neck womens flared dress - blue                      Size:Large,Medium,Small,X-Large  Rs\\n2099       944  55% off  Westernwear-Women\n",
            "58            6                 fratini                           solid round neck viscose womens regular dress - black             Size:Large,Medium,Small,X-Large,XX-Large  Rs\\n1499       749  50% off  Westernwear-Women\n",
            "59            7                     iti                                  solid georgette collar neck womens top - olive                                   Size:Small,X-Small  Rs\\n1499       399  73% off  Westernwear-Women\n",
            "60            8                    rare                 solid comfort fit polyester womens casual wear trousers - black                      Size:Large,Medium,Small,X-Large  Rs\\n1599       719  55% off  Westernwear-Women\n",
            "61            9                   levis                                graphic cotton round neck womens t-shirt - brown                      Size:Large,Medium,Small,X-Small       Nan      1199      Nan  Westernwear-Women\n",
            "62           10             cover story                             regular fit polyester womens casual trousers - pink                                  Size:26,28,30,32,34  Rs\\n2590      1813  30% off  Westernwear-Women\n",
            "63           11             zink london                            printed v neck polyester womens a-line dress - green     Size:Large,Medium,Small,X-Large,X-Small,XX-Large  Rs\\n2299      1149  50% off  Westernwear-Women\n",
            "64           12                     and                      polka dots boat neck viscose womens regular dresses - pink                                Size:8,10,12,14,16,18  Rs\\n2899      2319  20% off  Westernwear-Women\n",
            "65           13              van heusen                                 solid cotton v neck womens formal shirt - green                              Size:Large,Medium,Small  Rs\\n1999       799  60% off  Westernwear-Women\n",
            "66           14                    life                         printed cotton lycra round neck womens t-shirt - yellow              Size:Large,Medium,Small,X-Large,X-Small   Rs\\n699       349  50% off  Westernwear-Women\n",
            "67           15                    life                             solid cotton blend round neck womens t-shirt - pink                      Size:Large,Medium,Small,X-Large   Rs\\n899       449  50% off  Westernwear-Women\n",
            "68           16                faballey                        printed georgette round neck womens regular dress - pink              Size:Large,Medium,Small,X-Large,X-Small  Rs\\n2800      2240  20% off  Westernwear-Women\n",
            "69           17                   levis                      tapered fit regular length cotton womens jeans - dk indigo                                  Size:26,28,30,32,34       Nan      3799      Nan  Westernwear-Women\n",
            "70           18                    rare                           floral polyester v neck womens flared dress - natural                              Size:Large,Medium,Small  Rs\\n2099       944  55% off  Westernwear-Women\n",
            "71           19                    rare                            solid polyester round neck womens a-line dress - red                      Size:Large,Medium,Small,X-Large  Rs\\n1999       799  60% off  Westernwear-Women\n",
            "72           20                    rare                                  solid georgette round neck womens top - maroon                             Size:Large,Small,X-Large  Rs\\n1399       559  60% off  Westernwear-Women\n",
            "73           21                    stop                                 printed viscose regular neck womens top - white     Size:Large,Medium,Small,X-Large,X-Small,XX-Large   Rs\\n999       499  50% off  Westernwear-Women\n",
            "74           22                     Nan                                                                             Nan                                                  Nan       Nan       Nan      Nan  Westernwear-Women\n",
            "75           23                 fratini                         printed viscose collar neck womens a-line dress - black             Size:Large,Medium,Small,X-Large,XX-Large  Rs\\n1599       799  50% off  Westernwear-Women\n",
            "76           24                    life                        solid cotton lycra round neck womens t-shirt - off white              Size:Large,Medium,Small,X-Large,X-Small   Rs\\n699       349  50% off  Westernwear-Women\n",
            "77           25                    life                                printed jersey round neck womens t-shirt - lilac              Size:Large,Medium,Small,X-Large,X-Small   Rs\\n599       299  50% off  Westernwear-Women\n",
            "78            0                    only                                                checks cotton womens top - white                                  Size:34,36,38,40,42  Rs\\n1999      1399  30% off  Westernwear-Women\n",
            "79            1                    life                    regular fit regular length cotton lycra womens jeans - white                               Size:26,28,30,32,34,36  Rs\\n1299       649  50% off  Westernwear-Women\n",
            "80            2              van heusen                                  solid polyester collar neck womens top - black                                   Size:Small,X-Small  Rs\\n1699       999  41% off  Westernwear-Women\n",
            "81            3                 fratini                      solid polyester round neck womens a-line dress - aubergine             Size:Large,Medium,Small,X-Large,XX-Large  Rs\\n1599       799  50% off  Westernwear-Women\n",
            "82            4                    life                           printed cotton lycra round neck womens t-shirt - pink              Size:Large,Medium,Small,X-Large,X-Small   Rs\\n699       349  50% off  Westernwear-Women\n",
            "83            5                 fratini                             solid round neck viscose womens regular dress - tan             Size:Large,Medium,Small,X-Large,XX-Large  Rs\\n1499       749  50% off  Westernwear-Women\n",
            "84            6                   kraus                  super skinny fit ankle length cotton blend womens jeans - blue                               Size:28,30,32,34,36,38  Rs\\n1995      1396  30% off  Westernwear-Women\n",
            "85            7                    life                       checks cotton blend collar neck womens regular top - sage              Size:Large,Medium,Small,X-Large,X-Small  Rs\\n1299       649  50% off  Westernwear-Women\n",
            "86            8                    life                           embroidered cotton blend round neck womens top - blue              Size:Large,Medium,Small,X-Large,X-Small  Rs\\n1299       649  50% off  Westernwear-Women\n",
            "87            9                    rare                     solid polyester blend boat neck womens flared dress - black                      Size:Large,Medium,Small,X-Large  Rs\\n1699       764  55% off  Westernwear-Women\n",
            "88           10                     and                          solid polyester square neck womens flared dress - sage                                  Size:10,12,14,16,18  Rs\\n2699      2159  20% off  Westernwear-Women\n",
            "89           11                    life                          solid cotton blend round neck womens t-shirt - natural                    Size:Large,Medium,X-Large,X-Small   Rs\\n899       449  50% off  Westernwear-Women\n",
            "90           12                   kraus                            wide leg fit ankle length cotton womens jeans - blue                                        Size:28,30,32  Rs\\n1695      1525  10% off  Westernwear-Women\n",
            "91           13                    life                                  printed jersey round neck womens t-shirt - red                      Size:Large,Medium,Small,X-Small   Rs\\n699       349  50% off  Westernwear-Women\n",
            "92           14                 fratini  sanya malhotra regular fit regular length cotton linen womens culottes - olive                               Size:26,28,30,32,34,36       Nan      1299      Nan  Westernwear-Women\n",
            "93           15                 fratini                          solid square neck polyester womens woven top - natural                   Size:Large,Medium,X-Large,XX-Large   Rs\\n999       499  50% off  Westernwear-Women\n",
            "94           16                 fratini                            solid v-neck tencel womens a-line dress - light blue                                     Size:Large,Small  Rs\\n1699       849  50% off  Westernwear-Women\n",
            "95           17             zink london                                printed cotton round neck womens t-shirt - brown                                         Size:X-Large  Rs\\n1299       399  69% off  Westernwear-Women\n",
            "96           18                    life                regular fit regular length cotton lycra womens jeans - mid stone                                     Size:26,28,30,32   Rs\\n999       499  50% off  Westernwear-Women\n",
            "97           19             zink london                     textured polyester round neck womens straight top - natural                             Size:Large,Small,X-Small  Rs\\n1399       839  40% off  Westernwear-Women\n",
            "98           20             allen solly                    printed stylized polyester womens fit and flare dress - grey                      Size:Large,Medium,Small,X-Large  Rs\\n2499      1499  40% off  Westernwear-Women\n",
            "99           21                    stop                                  solid polyester regular neck womens top - sage             Size:Large,Medium,Small,X-Large,XX-Large  Rs\\n1299       649  50% off  Westernwear-Women\n",
            "100          22                     Nan                                                                             Nan                                                  Nan       Nan       Nan      Nan  Westernwear-Women\n",
            "101          23                    only                                        lace cotton collar neck womens top - red                                  Size:34,36,38,40,42  Rs\\n2499      1499  40% off  Westernwear-Women\n",
            "102          24                 fratini                    regular fit regular length cotton blend womens jeans - white                                  Size:28,30,32,34,36  Rs\\n1299       649  50% off  Westernwear-Women\n",
            "103          25                 fratini                       printed square neck polyester womens regular dress - pink             Size:Large,Medium,Small,X-Large,XX-Large  Rs\\n1699       849  50% off  Westernwear-Women\n",
            "104           0              van heusen                                     solid polyester v neck womens shirt - white              Size:Large,Medium,Small,X-Large,X-Small  Rs\\n1699       999  41% off  Westernwear-Women\n",
            "105           1                    only                              self design viscose square neck womens top - white                                  Size:34,36,38,40,42  Rs\\n2299      1379  40% off  Westernwear-Women\n",
            "106           2                    life                            printed blended round neck womens shift dress - navy              Size:Large,Medium,Small,X-Large,X-Small  Rs\\n1499       749  50% off  Westernwear-Women\n",
            "107           3             zink london                         solid collar neck polyester womens casual shirt - green                           Size:Medium,Small,XX-Large  Rs\\n1699       849  50% off  Westernwear-Women\n",
            "108           4                    life                           printed cotton lycra round neck womens t-shirt - sage              Size:Large,Medium,Small,X-Large,X-Small   Rs\\n699       349  50% off  Westernwear-Women\n",
            "109           5                faballey                     embroidered cotton square neck womens regular dress - white              Size:Large,Medium,Small,X-Large,X-Small  Rs\\n2600      2080  20% off  Westernwear-Women\n",
            "110           6                    life                          printed cotton blend round neck womens t-shirt - black              Size:Large,Medium,Small,X-Large,X-Small   Rs\\n999       499  50% off  Westernwear-Women\n",
            "111           7                  infuse                          floral rayon v neck womens strappy dress - pista green     Size:Large,Medium,Small,X-Large,X-Small,XX-Large  Rs\\n1499       749  50% off  Westernwear-Women\n",
            "112           8                   kraus                         baggy fit ankle length cotton womens jeans - light blue                                     Size:28,30,32,34  Rs\\n1595      1116  30% off  Westernwear-Women\n",
            "113           9                    life                           printed cotton lycra round neck womens t-shirt - blue              Size:Large,Medium,Small,X-Large,X-Small   Rs\\n699       349  50% off  Westernwear-Women\n",
            "114          10                 fratini                     solid polyester blend round neck womens a-line dress - pink             Size:Large,Medium,Small,X-Large,XX-Large  Rs\\n1899       949  50% off  Westernwear-Women\n",
            "115          11                  madame                                       solid polyester v neck womens top - blush             Size:Large,Medium,Small,X-Large,XX-Large  Rs\\n1699      1189  30% off  Westernwear-Women\n",
            "116          12                   kraus             super skinny fit ankle length cotton blend womens jeans - dark blue                               Size:28,30,32,34,36,38  Rs\\n1895       947  50% off  Westernwear-Women\n",
            "117          13                   kraus                         skinny fit full length cotton blend womens jeans - navy                                     Size:28,30,32,36  Rs\\n1895       947  50% off  Westernwear-Women\n",
            "118          14                    stop                         printed regular neck cotton womens formal shirt - white             Size:Large,Medium,Small,X-Large,XX-Large   Rs\\n899       449  50% off  Westernwear-Women\n",
            "119          15                    life                            regular fit regular length denim womens jeans - pink                               Size:26,28,30,32,34,36  Rs\\n1999       999  50% off  Westernwear-Women\n",
            "120          16             zink london                                  printed cotton collar neck womens dress - blue             Size:Large,Medium,Small,X-Small,XX-Large  Rs\\n2899      1739  40% off  Westernwear-Women\n",
            "121          17                    life                     skinny fit regular length cotton lycra womens jeans - black                               Size:26,28,30,32,34,36   Rs\\n999       499  50% off  Westernwear-Women\n",
            "122          18                    stop               solid regular neck cotton blend womens formal shirt - powder blue     Size:Large,Medium,Small,X-Large,X-Small,XX-Large   Rs\\n899       449  50% off  Westernwear-Women\n",
            "123          19                 altlife                  solid polyester blend ankle length womens tights - misty lilac                                  Size:28,30,32,34,36  Rs\\n1299       649  50% off  Westernwear-Women\n",
            "124          20                    life                        solid cotton wide neck womens a-line dress - powder blue              Size:Large,Medium,Small,X-Large,X-Small  Rs\\n1699       849  50% off  Westernwear-Women\n",
            "125          21             allen solly                       printed v-neck viscose womens fit and flare dress - black              Size:Large,Medium,Small,X-Large,X-Small  Rs\\n2499      1499  40% off  Westernwear-Women\n",
            "126          22                     Nan                                                                             Nan                                                  Nan       Nan       Nan      Nan  Westernwear-Women\n",
            "127          23                    stop                         solid regular fit polyester womens formal pants - black                                     Size:28,30,34,36  Rs\\n1699       849  50% off  Westernwear-Women\n",
            "128          24                     and                              solid polyester v neck womens regular dress - wine                                            Size:8,18  Rs\\n2899      2319  20% off  Westernwear-Women\n",
            "129          25                    rare                         floral polyester off shoulder womens regular top - blue                                     Size:Large,Small   Rs\\n999       499  50% off  Westernwear-Women\n",
            "130           0             zink london                           stripes cotton round neck womens straight top - multi              Size:Large,Medium,Small,X-Large,X-Small  Rs\\n1399       699  50% off  Westernwear-Women\n",
            "131           1                    life                                fit above knee denim womens casual skirt - black                               Size:26,28,30,32,34,36  Rs\\n1299       649  50% off  Westernwear-Women\n",
            "132           2                 fratini                       printed polyester round neck womens a-line dress - yellow  Size:Error Size,Large,Medium,Small,X-Large,XX-Large  Rs\\n1999       999  50% off  Westernwear-Women\n",
            "133           3                    rare                         floral polyester round neck womens flared dress - black                      Size:Large,Medium,Small,X-Large  Rs\\n1999       899  55% off  Westernwear-Women\n",
            "134           4          latin quarters                                    solid polyester womens regular blouse - wine                                        Size:S,M,L,XL  Rs\\n1899       949  50% off  Westernwear-Women\n",
            "135           5                 fratini                  printed polyester blend round neck womens regular top - yellow                                    Size:Medium,Small   Rs\\n999       499  50% off  Westernwear-Women\n",
            "136           6             zink london                                  embroidered viscose mandarin womens top - blue             Size:Large,Medium,Small,X-Small,XX-Large  Rs\\n2199      1319  40% off  Westernwear-Women\n",
            "137           7                    stop            solid regular neck cotton stretch womens formal shirt - bottle green                    Size:Large,Small,X-Large,XX-Large   Rs\\n999       499  50% off  Westernwear-Women\n",
            "138           8                    rare                             half sleeves regular fit womens casual dress - navy                      Size:Large,Medium,Small,X-Large  Rs\\n1999       899  55% off  Westernwear-Women\n",
            "139           9          latin quarters                                    printed polyester womens regular dress - red                               Size:S,M,L,XL,XX-Large  Rs\\n2799      1959  30% off  Westernwear-Women\n",
            "140          10             zink london                                    solid polyester round neck womens top - navy     Size:Large,Medium,Small,X-Large,X-Small,XX-Large  Rs\\n1499       899  40% off  Westernwear-Women\n",
            "141          11                    stop                       solid collar neck cotton blend womens regular top - peach                          Size:Large,X-Large,XX-Large   Rs\\n999       499  50% off  Westernwear-Women\n",
            "142          12             cover story                                    solid viscose collar neck womens top - peach                                   Size:Small,X-Small  Rs\\n2290      1603  30% off  Westernwear-Women\n",
            "143          13                    stop                         printed regular neck cotton womens formal shirt - black     Size:Large,Medium,Small,X-Large,X-Small,XX-Large   Rs\\n799       399  50% off  Westernwear-Women\n",
            "144          14             zink london                                printed cotton round neck womens t-shirt - green              Size:Large,Medium,Small,X-Large,X-Small   Rs\\n799       479  40% off  Westernwear-Women\n",
            "145          15             zink london                           floral rayon collar neck womens casual shirt - yellow     Size:Large,Medium,Small,X-Large,X-Small,XX-Large  Rs\\n1599       799  50% off  Westernwear-Women\n",
            "146          16                    rare                          floral georgette round neck womens flared dress - grey                              Size:Large,Medium,Small  Rs\\n1899       854  55% off  Westernwear-Women\n",
            "147          17              van heusen                               super slim fit regular cotton womens jeans - navy                                        Size:28,32,34  Rs\\n2199       999  55% off  Westernwear-Women\n",
            "148          18                    life                           printed cotton lycra round neck womens t-shirt - blue              Size:Large,Medium,Small,X-Large,X-Small   Rs\\n699       349  50% off  Westernwear-Women\n",
            "149          19                    rare                    solid polyester blend round neck womens a-line dress - black                                   Size:Small,X-Large  Rs\\n1699       764  55% off  Westernwear-Women\n",
            "150          20                    life                          striped cotton blend collar neck womens t-shirt - blue              Size:Large,Medium,Small,X-Large,X-Small   Rs\\n799       399  50% off  Westernwear-Women\n",
            "151          21              van heusen                   textured polyester blend regular fit womens trousers - maroon                                           Size:26,34  Rs\\n2199       999  55% off  Westernwear-Women\n",
            "152          22                     Nan                                                                             Nan                                                  Nan       Nan       Nan      Nan  Westernwear-Women\n",
            "153          23                  madame                          solid cotton round neck womens regular top - off white                      Size:Large,Medium,Small,X-Large  Rs\\n1199       599  50% off  Westernwear-Women\n",
            "154          24                 fratini                       printed viscose blend round neck womens t-shirt - natural             Size:Large,Medium,Small,X-Large,XX-Large       Nan       799      Nan  Westernwear-Women\n",
            "155          25                    life                    regular fit regular length cotton lycra womens jeans - black                               Size:26,28,30,32,34,36  Rs\\n1299       649  50% off  Westernwear-Women\n",
            "156           0              van heusen                     solid polyester collar neck womens formal shirt - off white                                         Size:X-Small  Rs\\n1699       999  41% off  Westernwear-Women\n",
            "157           1                    rare                          floral polyester round neck womens regular top - multi                      Size:Large,Medium,Small,X-Large  Rs\\n1299       584  55% off  Westernwear-Women\n",
            "158           2                    life                         solid polyester blend round neck womens t-shirt - black              Size:Large,Medium,Small,X-Large,X-Small   Rs\\n999       499  50% off  Westernwear-Women\n",
            "159           3                    only                              stripes polyester round neck womens t-shirt - blue              Size:Large,Medium,Small,X-Large,X-Small  Rs\\n1799      1079  40% off  Westernwear-Women\n",
            "160           4                  infuse                   graphic cotton round neck womens regular fit t-shirt - yellow              Size:Large,Medium,Small,X-Large,X-Small   Rs\\n499       199  60% off  Westernwear-Women\n",
            "161           5                     and                       solid boat neck polyester womens straight dresses - multi                                 Size:6,8,10,12,14,16  Rs\\n2499      1999  20% off  Westernwear-Women\n",
            "162           6                    rare                          stripes polyester round neck womens regular top - navy                      Size:Large,Medium,Small,X-Large  Rs\\n1199       539  55% off  Westernwear-Women\n",
            "163           7                    life                    solid polyester blend round neck womens t-shirt - dusty pink              Size:Large,Medium,Small,X-Large,X-Small   Rs\\n999       499  50% off  Westernwear-Women\n",
            "164           8              van heusen                        solid polyester blend regular fit womens trousers - pink                                              Size:26  Rs\\n1499       799  47% off  Westernwear-Women\n",
            "165           9             zink london                                   solid polyester round neck womens top - white     Size:Large,Medium,Small,X-Large,X-Small,XX-Large  Rs\\n1599       959  40% off  Westernwear-Women\n",
            "166          10                 fratini                                  printed v-neck viscose womens woven top - pink                                  Size:Small,XX-Large   Rs\\n999       499  50% off  Westernwear-Women\n",
            "167          11                    life                        regular fit regular length denim womens jeans - charcoal                               Size:26,28,30,32,34,36  Rs\\n1999       999  50% off  Westernwear-Women\n",
            "168          12                 fratini                            solid square neck polyester womens woven top - olive                   Size:Large,Medium,X-Large,XX-Large   Rs\\n999       499  50% off  Westernwear-Women\n",
            "169          13                   kraus                       wide leg fit ankle length cotton womens jeans - dark blue                                  Size:28,30,32,34,36  Rs\\n1795      1256  30% off  Westernwear-Women\n",
            "170          14                  madame                              solid cotton round neck womens regular top - mauve                            Size:Large,Medium,X-Large  Rs\\n1499       899  40% off  Westernwear-Women\n",
            "171          15                    life                                printed viscose collar neck womens shirt - white              Size:Large,Medium,Small,X-Large,X-Small   Rs\\n899       449  50% off  Westernwear-Women\n",
            "172          16                    stop                         solid nr roma regular neck womens regular dress - olive     Size:Large,Medium,Small,X-Large,X-Small,XX-Large       Nan      1999      Nan  Westernwear-Women\n",
            "173          17                    life                            printed jersey round neck womens t-shirt - off white              Size:Large,Medium,Small,X-Large,X-Small   Rs\\n699       349  50% off  Westernwear-Women\n",
            "174          18                    life                   regular fit regular length cotton blend womens joggers - blue                               Size:26,28,30,32,34,36  Rs\\n1299       649  50% off  Westernwear-Women\n",
            "175          19                   kraus                               baggy fit ankle length cotton womens jeans - blue                                     Size:28,30,32,34  Rs\\n1695       847  50% off  Westernwear-Women\n",
            "176          20             zink london                                   printed polyester boat neck womens top - navy     Size:Large,Medium,Small,X-Large,X-Small,XX-Large  Rs\\n1799      1079  40% off  Westernwear-Women\n",
            "177          21          latin quarters                                    printed polyester womens regular dress - red                               Size:S,M,L,XL,XX-Large       Nan      2699      Nan  Westernwear-Women\n",
            "178          22                     Nan                                                                             Nan                                                  Nan       Nan       Nan      Nan  Westernwear-Women\n",
            "179          23                    life                      embroidered viscose blend round neck womens t-shirt - pink              Size:Large,Medium,Small,X-Large,X-Small   Rs\\n899       449  50% off  Westernwear-Women\n",
            "180          24                 fratini                           solid cotton blend round neck womens t-shirt - yellow             Size:Large,Medium,Small,X-Large,XX-Large       Nan       699      Nan  Westernwear-Women\n",
            "181          25                 fratini                        printed viscose collar neck womens a-line dress - yellow             Size:Large,Medium,Small,X-Large,XX-Large  Rs\\n1599       799  50% off  Westernwear-Women\n",
            "182           0                faballey                                 floral georgette round neck womens dress - blue                                   Size:Small,X-Small  Rs\\n2400      1920  20% off  Westernwear-Women\n",
            "183           1                    rare                          solid polyester choker neck womens regular top - black                      Size:Large,Medium,Small,X-Large  Rs\\n1299       584  55% off  Westernwear-Women\n",
            "184           2                    stop                   solid regular neck cotton stretch womens formal shirt - white                  Size:Large,X-Large,X-Small,XX-Large       Nan       999      Nan  Westernwear-Women\n",
            "185           3                    rare                          floral polyester round neck womens regular top - multi                      Size:Large,Medium,Small,X-Large  Rs\\n1399       559  60% off  Westernwear-Women\n",
            "186           4                    life                    regular fit regular length cotton lycra womens jeans - black                                  Size:26,28,30,32,34   Rs\\n999       499  50% off  Westernwear-Women\n",
            "187           5             zink london                                   solid cotton round neck womens top - lavender     Size:Large,Medium,Small,X-Large,X-Small,XX-Large  Rs\\n1899      1139  40% off  Westernwear-Women\n",
            "188           6             zink london                            checks round neck cotton womens a-line dress - multi     Size:Large,Medium,Small,X-Large,X-Small,XX-Large  Rs\\n2799      1399  50% off  Westernwear-Women\n",
            "189           7                    stop                      solid regular neck cotton blend womens formal shirt - pink     Size:Large,Medium,Small,X-Large,X-Small,XX-Large   Rs\\n899       449  50% off  Westernwear-Women\n",
            "190           8                    only                                         solid viscose womens cropped top - pink              Size:Large,Medium,Small,X-Large,X-Small  Rs\\n1799      1079  40% off  Westernwear-Women\n",
            "191           9                    life                            printed viscose wide neck womens a-line dress - sage              Size:Large,Medium,Small,X-Large,X-Small  Rs\\n1499       749  50% off  Westernwear-Women\n",
            "192          10                    life                             embroidered blended round neck womens top - natural              Size:Large,Medium,Small,X-Large,X-Small  Rs\\n1199       599  50% off  Westernwear-Women\n",
            "193          11          latin quarters                     printed v neck polyester womens regular fit dresses - peach                                        Size:S,M,L,XL  Rs\\n2699      1889  30% off  Westernwear-Women\n",
            "194          12                    rare                             solid polyester mandarin womens regular top - green                                    Size:Medium,Small  Rs\\n1299       519  60% off  Westernwear-Women\n",
            "195          13          latin quarters                               dyed rayon blend womens casual wear shrug - peach                               Size:S,M,L,XL,XX-Large  Rs\\n1399       699  50% off  Westernwear-Women\n",
            "196          14                    life                         solid denim collar neck womens denim jacket - mid stone              Size:Large,Medium,Small,X-Large,X-Small  Rs\\n1899       949  50% off  Westernwear-Women\n",
            "197          15                    rare                               solid crepe tie up neck�womens regular top - grey                                    Size:Large,Medium  Rs\\n1399       559  60% off  Westernwear-Women\n",
            "198          16             zink london                           floral polyester round neck womens short dress - blue     Size:Large,Medium,Small,X-Large,X-Small,XX-Large  Rs\\n2199      1319  40% off  Westernwear-Women\n",
            "199          17                    rare                              solid crepe round neck womens regular top - maroon                                           Size:Small  Rs\\n1099       549  50% off  Westernwear-Women\n",
            "200          18             allen solly                       printed round neck rayon womens fit and flare dress - red     Size:Large,Medium,Small,X-Large,X-Small,XX-Large  Rs\\n2499      1499  40% off  Westernwear-Women\n",
            "201          19                    life                regular fit regular length cotton lycra womens jeans - dk indigo                                  Size:26,28,30,32,36   Rs\\n999       499  50% off  Westernwear-Women\n",
            "202          20                    rare                              solid crepe round neck womens regular top - maroon                      Size:Large,Medium,Small,X-Large   Rs\\n999       499  50% off  Westernwear-Women\n",
            "203          21          latin quarters                                 printed polyester womens regular dress - yellow                                        Size:S,M,L,XL       Nan      2799      Nan  Westernwear-Women\n",
            "204          22                     Nan                                                                             Nan                                                  Nan       Nan       Nan      Nan  Westernwear-Women\n",
            "205          23                    rare                             floral crepe round neck womens flared dress - cream                             Size:Large,Small,X-Large  Rs\\n1599       719  55% off  Westernwear-Women\n",
            "206          24                    life                                    womens viscose collar checks shirts - orange                                   Size:Small,X-Small   Rs\\n899       449  50% off  Westernwear-Women\n",
            "207          25                    rare                             solid modal round neck womens regular top - mustard                                         Size:X-Large  Rs\\n1499       599  60% off  Westernwear-Women\n",
            "208           0              van heusen                              textured polyester round neck womens jacket - navy              Size:Large,Medium,Small,X-Large,X-Small  Rs\\n3499      1499  57% off  Westernwear-Women\n",
            "209           1                    life                                 printed jersey round neck womens t-shirt - blue              Size:Large,Medium,Small,X-Large,X-Small   Rs\\n699       349  50% off  Westernwear-Women\n",
            "210           2                    rare                           solid polyester boat neck womens regular top - maroon                      Size:Large,Medium,Small,X-Large  Rs\\n1499       599  60% off  Westernwear-Women\n",
            "211           3                    life                          solid viscose blend round neck womens t-shirt - orange              Size:Large,Medium,Small,X-Large,X-Small   Rs\\n699       349  50% off  Westernwear-Women\n",
            "212           4                    stop                        printed regular neck chambray womens formal shirt - blue             Size:Large,Medium,Small,X-Large,XX-Large   Rs\\n899       449  50% off  Westernwear-Women\n",
            "213           5                  madame                           solid georgette square neck womens regular top - mint             Size:Large,Medium,Small,X-Large,XX-Large  Rs\\n1699       849  50% off  Westernwear-Women\n",
            "214           6                    rare                         floral georgette round neck womens flared dress - black                      Size:Large,Medium,Small,X-Large  Rs\\n1899       854  55% off  Westernwear-Women\n",
            "215           7                    rare              solid polyester blend sweetheart neck womens bodycon dress - green                            Size:Large,Medium,X-Large  Rs\\n2399      1079  55% off  Westernwear-Women\n",
            "216           8                     and                       floral polyester v neck womens straight top - powder blue                                Size:8,10,12,14,16,18       Nan      2099      Nan  Westernwear-Women\n",
            "217           9             zink london                               textured polyester boat neck womens dress - black     Size:Large,Medium,Small,X-Large,X-Small,XX-Large  Rs\\n2699      1619  40% off  Westernwear-Women\n",
            "218          10          latin quarters                                   solid polyester womens regular dress - purple                                        Size:S,M,L,XL  Rs\\n2399      1199  50% off  Westernwear-Women\n",
            "219          11             zink london                                 solid regular fit cotton womens trousers - grey                                   Size:Small,X-Large  Rs\\n1899      1139  40% off  Westernwear-Women\n",
            "220          12                    sera                           womens regular fit solid tie up neck peplum top - red                             Size:Large,Small,X-Large  Rs\\n1198       359  70% off  Westernwear-Women\n",
            "221          13                    rare                 solid comfort fit polyester womens casual wear trousers - brown                      Size:Large,Medium,Small,X-Large  Rs\\n1899       854  55% off  Westernwear-Women\n",
            "222          14                    life                         printed round neck polyester womens regular top - black              Size:Large,Medium,Small,X-Large,X-Small  Rs\\n1199       599  50% off  Westernwear-Women\n",
            "223          15                  madame                                 floral print polyster womens dress - royal blue             Size:Large,Medium,Small,X-Large,XX-Large  Rs\\n2699      1619  40% off  Westernwear-Women\n",
            "224          16                 fratini              sanya malhotra  stripes v neck viscose moss womens dress - natural             Size:Large,Medium,Small,X-Large,XX-Large       Nan      1899      Nan  Westernwear-Women\n",
            "225          17                     and                                      solid cotton collar neck womens top - rose                                   Size:8,10,12,14,18  Rs\\n1799       899  50% off  Westernwear-Women\n",
            "226          18                 fratini                               printed viscose v-neck womens regular top - black                     Size:Large,Medium,Small,XX-Large   Rs\\n899       449  50% off  Westernwear-Women\n",
            "227          19                  adidas                        striped regular fit blended womens sports tights - black                                         Size:X-Small  Rs\\n1799       899  50% off  Westernwear-Women\n",
            "228          20                    rare             checks cold shoulder polyester womens calf length jumpsuits - black                      Size:Large,Medium,Small,X-Large  Rs\\n2099       839  60% off  Westernwear-Women\n",
            "229          21             zink london                                      floral viscose v neck womens dress - green     Size:Large,Medium,Small,X-Large,X-Small,XX-Large  Rs\\n2799      1679  40% off  Westernwear-Women\n",
            "230          22                     Nan                                                                             Nan                                                  Nan       Nan       Nan      Nan  Westernwear-Women\n",
            "231          23                    life                    regular fit regular length cotton lycra womens jeans - black                               Size:26,28,30,32,34,36  Rs\\n1699       849  50% off  Westernwear-Women\n",
            "232          24             allen solly                                          womens solid formal shirt - light blue                    Size:Large,Small,X-Large,XX-Large  Rs\\n1599       959  40% off  Westernwear-Women\n",
            "233          25             allen solly              solid polyester cotton round neck womens formal wear shirt - black                      Size:Large,Medium,Small,X-Large  Rs\\n1599       959  40% off  Westernwear-Women\n",
            "234           0             zink london                                  solid regular fit cotton womens joggers - blue                                         Size:X-Large  Rs\\n1899      1139  40% off  Westernwear-Women\n",
            "235           1             cover story                           solid cotton spandex round neck womens t-shirt - pink                    Size:Large,Medium,X-Large,X-Small   Rs\\n990       693  30% off  Westernwear-Women\n",
            "236           2                    stop                   solid regular neck cotton stretch womens formal shirt - black             Size:Large,Medium,Small,X-Large,XX-Large   Rs\\n999       499  50% off  Westernwear-Women\n",
            "237           3                   levis                         tapered fit regular length cotton womens jeans - indigo                                  Size:26,28,30,32,34       Nan      3799      Nan  Westernwear-Women\n",
            "238           4                 fratini                         printed viscose collar neck womens a-line dress - white             Size:Large,Medium,Small,X-Large,XX-Large  Rs\\n1599       799  50% off  Westernwear-Women\n",
            "239           5                faballey                                      solid crepe square neck womens dress - red              Size:Large,Medium,Small,X-Large,X-Small  Rs\\n1900      1520  20% off  Westernwear-Women\n",
            "240           6                    rare                               floral polyester v neck womens a-line dress - red                      Size:Large,Medium,Small,X-Large  Rs\\n2099       944  55% off  Westernwear-Women\n",
            "241           7             zink london                             solid cotton collar neck womens straight top - blue     Size:Large,Medium,Small,X-Large,X-Small,XX-Large  Rs\\n1599       959  40% off  Westernwear-Women\n",
            "242           8                 fratini               embellished viscose blend round neck womens t-shirt - powder blue             Size:Large,Medium,Small,X-Large,XX-Large   Rs\\n999       499  50% off  Westernwear-Women\n",
            "243           9                    stop                      printed regular neck cotton womens formal shirt - sky blue             Size:Large,Medium,Small,X-Large,XX-Large   Rs\\n899       449  50% off  Westernwear-Women\n",
            "244          10             zink london                                  floral viscose tie up neck� womens top - green     Size:Large,Medium,Small,X-Large,X-Small,XX-Large  Rs\\n1799      1079  40% off  Westernwear-Women\n",
            "245          11                    stop                         solid viscose round neck womens regular top - off white             Size:Large,Medium,Small,X-Large,XX-Large   Rs\\n799       399  50% off  Westernwear-Women\n",
            "246          12              van heusen                                         solid polyester v neck womens top - red                    Size:Medium,Small,X-Large,X-Small  Rs\\n1699       999  41% off  Westernwear-Women\n",
            "247          13             zink london                        printed viscose blend square neck womens dress - mustard                      Size:Large,Medium,Small,X-Large  Rs\\n3199      1919  40% off  Westernwear-Women\n",
            "248          14                    life                        printed cotton slub round neck womens regular top - blue              Size:Large,Medium,Small,X-Large,X-Small   Rs\\n899       449  50% off  Westernwear-Women\n",
            "249          15                    rare                        printed georgette off shoulder womens blouson top - navy                      Size:Large,Medium,Small,X-Large   Rs\\n999       499  50% off  Westernwear-Women\n",
            "250          16             zink london                          floral polyester round neck womens straight top - blue              Size:Large,Medium,Small,X-Large,X-Small  Rs\\n1399       839  40% off  Westernwear-Women\n",
            "251          17                    life                      checks cotton blend collar neck womens regular top - black              Size:Large,Medium,Small,X-Large,X-Small  Rs\\n1299       649  50% off  Westernwear-Women\n",
            "252          18                 fratini                                   solid cotton round neck womens t-shirt - teal             Size:Large,Medium,Small,X-Large,XX-Large   Rs\\n799       399  50% off  Westernwear-Women\n",
            "253          19          latin quarters                                dyed v-neck cotton womens regular dress - maroon                               Size:S,M,L,XL,XX-Large  Rs\\n2499      1249  50% off  Westernwear-Women\n",
            "254          20                    life                      regular fit regular length cotton lycra womens jeans - ice                               Size:26,28,30,32,34,36  Rs\\n1299       649  50% off  Westernwear-Women\n",
            "255          21                    life                     solid cotton blend wide neck womens regular top - mid stone                    Size:Large,Medium,X-Large,X-Small  Rs\\n1299       649  50% off  Westernwear-Women\n",
            "256          22                     Nan                                                                             Nan                                                  Nan       Nan       Nan      Nan  Westernwear-Women\n",
            "257          23                    life                              printed jersey round neck womens t-shirt - natural              Size:Large,Medium,Small,X-Large,X-Small   Rs\\n599       299  50% off  Westernwear-Women\n",
            "258          24                    rare                                solid polyester blend womens regular top - peach                      Size:Large,Medium,Small,X-Large  Rs\\n1499       674  55% off  Westernwear-Women\n",
            "259          25                    life                                  womens cotton lycra solid capri tights - black                                        Size:28,30,32   Rs\\n799       399  50% off  Westernwear-Women\n",
            "260           0                  zink z                                solid polyester off shoulder womens dress - pink              Size:Large,Medium,Small,X-Large,X-Small       Nan      2299      Nan  Westernwear-Women\n",
            "261           1             cover story                             solid cotton round neck womens regular dress - pink              Size:Large,Medium,Small,X-Large,X-Small  Rs\\n2890      1734  40% off  Westernwear-Women\n",
            "262           2                 fratini                regular fit regular length cotton blend womens jeans - mid stone                               Size:26,28,30,32,34,36  Rs\\n1299       649  50% off  Westernwear-Women\n",
            "263           3                 fratini                                        solid v-neck jersey womens t-shirt - red             Size:Large,Medium,Small,X-Large,XX-Large   Rs\\n599       299  50% off  Westernwear-Women\n",
            "264           4                  zink z                                          solid cotton hood womens dress - white              Size:Large,Medium,Small,X-Large,X-Small       Nan      1799      Nan  Westernwear-Women\n",
            "265           5                    life                 skinny fit regular length cotton lycra womens jeans - mid stone                               Size:26,28,30,32,34,36   Rs\\n999       499  50% off  Westernwear-Women\n",
            "266           6                    rare                              floral rayon round neck womens regular top - black                      Size:Large,Medium,Small,X-Large  Rs\\n1499       599  60% off  Westernwear-Women\n",
            "267           7                  infuse                                   floral v neck rayon womens dress - light blue     Size:Large,Medium,Small,X-Large,X-Small,XX-Large  Rs\\n1299       649  50% off  Westernwear-Women\n",
            "268           8                  infuse               embroidered cotton round neck womens regular fit t-shirt - purple                      Size:Large,Medium,Small,X-Small   Rs\\n499       199  60% off  Westernwear-Women\n",
            "269           9                   kraus                                mom fit ankle length cotton womens jeans - black                                  Size:28,30,32,34,36  Rs\\n1795      1615  10% off  Westernwear-Women\n",
            "270          10                   kraus                                wide fit ankle length cotton womens jeans - blue                                  Size:28,30,32,34,36  Rs\\n1695      1525  10% off  Westernwear-Women\n",
            "271          11             allen solly                             solid polyester regular fit womens trousers - black                               Size:26,28,30,32,34,36  Rs\\n1999      1599  20% off  Westernwear-Women\n",
            "272          12             zink london                           tie and dye polyester square neck womens dress - pink                                Size:X-Large,XX-Large  Rs\\n2499      1499  40% off  Westernwear-Women\n",
            "273          13          latin quarters                                solid polyester womens casual wear jacket - gold                                             Size:S,M  Rs\\n2999      1499  50% off  Westernwear-Women\n",
            "274          14                   kraus                            heavy wash cotton slim fit womens jeans - light blue                                  Size:28,30,32,34,36  Rs\\n1895      1705  10% off  Westernwear-Women\n",
            "275          15              van heusen                                solid polyester round neck womens dress - yellow              Size:Large,Medium,Small,X-Large,X-Small  Rs\\n3499      1499  57% off  Westernwear-Women\n",
            "276          16             zink london                          floral polyester round neck womens straight top - pink                      Size:Large,Medium,Small,X-Large  Rs\\n1499       899  40% off  Westernwear-Women\n",
            "277          17                     and                          solid round neck polyester womens straight top - black                                      Size:8,10,12,14  Rs\\n2699      2159  20% off  Westernwear-Women\n",
            "278          18                     and                          floral square neck polyester womens flared gown - sage                                   Size:8,10,12,14,16  Rs\\n3499      2799  20% off  Westernwear-Women\n",
            "279          19             zink london                solid sweetheart neck viscose blend womens a-line dress - yellow     Size:Large,Medium,Small,X-Large,X-Small,XX-Large  Rs\\n2499      1499  40% off  Westernwear-Women\n",
            "280          20                    life                           printed cotton lycra round neck womens t-shirt - pink              Size:Large,Medium,Small,X-Large,X-Small   Rs\\n699       349  50% off  Westernwear-Women\n",
            "281          21                     and                                solid polyester v neck womens regular top - wine                                Size:8,10,12,14,16,18  Rs\\n1899      1519  20% off  Westernwear-Women\n",
            "282          22                     Nan                                                                             Nan                                                  Nan       Nan       Nan      Nan  Westernwear-Women\n",
            "283          23                 fratini                             printed polyester v-neck womens a-line dress - grey             Size:Large,Medium,Small,X-Large,XX-Large       Nan      2299      Nan  Westernwear-Women\n",
            "284          24                    life                     embroidered viscose blend round neck womens t-shirt - white              Size:Large,Medium,Small,X-Large,X-Small   Rs\\n899       449  50% off  Westernwear-Women\n",
            "285          25                    stop                         printed regular neck cotton womens formal shirt - white             Size:Large,Medium,Small,X-Large,XX-Large   Rs\\n799       399  50% off  Westernwear-Women\n",
            "286           0                 fratini                         printed collar polyester womens regular top - off white             Size:Large,Medium,Small,X-Large,XX-Large  Rs\\n1299       649  50% off  Westernwear-Women\n",
            "287           1                    life                          printed band collar polyester womens woven top - lilac              Size:Large,Medium,Small,X-Large,X-Small   Rs\\n999       499  50% off  Westernwear-Women\n",
            "288           2                    only                       solid polyester viscose round neck womens t-shirt - green              Size:Large,Medium,Small,X-Large,X-Small  Rs\\n1299       779  40% off  Westernwear-Women\n",
            "289           3             zink london                                  solid cotton square neck womens dress - orange     Size:Large,Medium,Small,X-Large,X-Small,XX-Large  Rs\\n2599      1559  40% off  Westernwear-Women\n",
            "290           4             zink london                            floral polyester round neck womens dress - off white                      Size:Large,Medium,Small,X-Large  Rs\\n2999      1799  40% off  Westernwear-Women\n",
            "291           5             zink london                                printed cotton round neck womens t-shirt - black                                     Size:Large,Small  Rs\\n1299       399  69% off  Westernwear-Women\n",
            "292           6                 fratini                    printed polyester round neck womens a-line dress - off white  Size:Error Size,Large,Medium,Small,X-Large,XX-Large  Rs\\n1999       999  50% off  Westernwear-Women\n",
            "293           7                    rare                        floral polyester off shoulder womens regular top - black                              Size:Large,Medium,Small   Rs\\n999       499  50% off  Westernwear-Women\n",
            "294           8                   kraus                        skinny fit ankle length cotton blend womens jeans - blue                                  Size:28,30,32,36,38  Rs\\n1695       847  50% off  Westernwear-Women\n",
            "295           9                    pepe                checks viscose blend round neck womens casual shirt - lime green                      Size:Large,Medium,Small,X-Large  Rs\\n1599       959  40% off  Westernwear-Women\n",
            "296          10                   kraus                                  clean look cotton wide fit womens jeans - blue                                  Size:28,30,32,34,36  Rs\\n1595      1435  10% off  Westernwear-Women\n",
            "297          11             zink london                                 solid cotton round neck womens dress - lavender     Size:Large,Medium,Small,X-Large,X-Small,XX-Large  Rs\\n3199      1919  40% off  Westernwear-Women\n",
            "298          12             zink london                            womens regular fit solid round neck t-shirt - purple                             Size:Large,Small,X-Large  Rs\\n1199       399  67% off  Westernwear-Women\n",
            "299          13                     and                        floral linen round neck womens straight dress - pink mix                                   Size:8,10,12,14,16  Rs\\n3899      3119  20% off  Westernwear-Women\n",
            "300          14                    stop                                   solid viscose regular neck womens top - blush             Size:Large,Medium,Small,X-Large,XX-Large   Rs\\n999       499  50% off  Westernwear-Women\n",
            "301          15                  madame                                     stripes polyester v neck womens top - blush             Size:Large,Medium,Small,X-Large,XX-Large  Rs\\n1799      1259  30% off  Westernwear-Women\n",
            "302          16                     and                             solid polyester v neck womens regular dress - peach                                Size:8,10,12,14,16,18  Rs\\n2299      1149  50% off  Westernwear-Women\n",
            "303          17             zink london                                      solid polyester v neck womens dress - pink                   Size:Large,Medium,X-Large,XX-Large  Rs\\n2999      1799  40% off  Westernwear-Women\n",
            "304          18                faballey                   polka dots sweetheart neck georgette womens mini dress - blue              Size:Large,Medium,Small,X-Large,X-Small  Rs\\n1950      1560  20% off  Westernwear-Women\n",
            "305          19                     and                         solid round neck polyester womens straight top - yellow                                Size:8,10,12,14,16,18  Rs\\n1699      1359  20% off  Westernwear-Women\n",
            "306          20                    rare                         stripes polyester boat neck womens regular top - maroon                      Size:Large,Medium,Small,X-Large  Rs\\n1299       584  55% off  Westernwear-Women\n",
            "307          21                     and                          solid collar neck linen womens straight dresses - wine                                Size:8,10,12,14,16,18  Rs\\n3299      2639  20% off  Westernwear-Women\n",
            "308          22                     Nan                                                                             Nan                                                  Nan       Nan       Nan      Nan  Westernwear-Women\n",
            "309          23              van heusen                                printed polyester round neck womens top - yellow              Size:Large,Medium,Small,X-Large,X-Small  Rs\\n1499       999  33% off  Westernwear-Women\n",
            "310          24                    life                      solid viscose blend wide neck womens t-shirt - powder blue              Size:Large,Medium,Small,X-Large,X-Small  Rs\\n1299       649  50% off  Westernwear-Women\n",
            "311          25             zink london                           textured cotton off shoulder womens dress - baby pink                     Size:Large,Medium,Small,XX-Large  Rs\\n3499      2099  40% off  Westernwear-Women\n",
            "312           0                    life                            solid viscose wide neck womens a-line dress - orange              Size:Large,Medium,Small,X-Large,X-Small  Rs\\n1499       749  50% off  Westernwear-Women\n",
            "313           1                 altlife                    printed polyester blend regular neck womens t-shirt - purple     Size:Large,Medium,Small,X-Large,X-Small,XX-Large   Rs\\n599       299  50% off  Westernwear-Women\n",
            "314           2                 fratini                       printed viscose wide neck womens regular top - light blue                      Size:Large,Medium,Small,X-Large  Rs\\n1199       599  50% off  Westernwear-Women\n",
            "315           3                    life                       printed collar neck polyester womens regular top - orange              Size:Large,Medium,Small,X-Large,X-Small   Rs\\n999       499  50% off  Westernwear-Women\n",
            "316           4                    rare                                    solid crepe v neck womens blouson top - navy                              Size:Large,Medium,Small  Rs\\n1299       584  55% off  Westernwear-Women\n",
            "317           5             zink london                           solid polyester blend regular fit womens pants - grey                                         Size:X-Large  Rs\\n1899      1139  40% off  Westernwear-Women\n",
            "318           6          latin quarters                          printed polyester v-neck womens regular blouse - ivory                               Size:S,M,L,XL,XX-Large       Nan      1599      Nan  Westernwear-Women\n",
            "319           7                    life                             regular fit regular length denim womens jeans - ice                        Size:26,28,30,32,34,36,Medium  Rs\\n1699       849  50% off  Westernwear-Women\n",
            "320           8                 altlife                                 solid cotton full length womens joggers - black                                  Size:28,30,32,34,36   Rs\\n999       499  50% off  Westernwear-Women\n",
            "321           9                    rare                            solid polyester round neck womens a-line dress - red                      Size:Large,Medium,Small,X-Large  Rs\\n1499       674  55% off  Westernwear-Women\n",
            "322          10                   indya                  shraddha kapoor for indya embellished hot wrap crop top - pink              Size:Large,Medium,Small,X-Large,X-Small  Rs\\n1300      1040  20% off  Westernwear-Women\n",
            "323          11                 fratini                            printed polyester v-neck womens a-line dress - lilac             Size:Large,Medium,Small,X-Large,XX-Large  Rs\\n1899       949  50% off  Westernwear-Women\n",
            "324          12                    life                        printed viscose wide neck womens regular top - off white              Size:Large,Medium,Small,X-Large,X-Small  Rs\\n1199       599  50% off  Westernwear-Women\n",
            "325          13             zink london                                     printed polyester v neck womens top - multi                      Size:Large,Medium,Small,X-Large  Rs\\n1499       899  40% off  Westernwear-Women\n",
            "326          14                    rare                           printed rayon round neck womens flared dress - maroon                                          Size:Medium  Rs\\n2399      1079  55% off  Westernwear-Women\n",
            "327          15          latin quarters                        dyed round neck polyester womens regular knit top - pink                                Size:S,M,L,XL,X-Small  Rs\\n1599       799  50% off  Westernwear-Women\n",
            "328          16                 fratini                           solid viscose blend round neck womens t-shirt - lilac             Size:Large,Medium,Small,X-Large,XX-Large   Rs\\n699       349  50% off  Westernwear-Women\n",
            "329          17                    life                    skinny fit regular length cotton lycra womens jeans - indigo                               Size:26,28,30,32,34,36  Rs\\n1299       649  50% off  Westernwear-Women\n",
            "330          18             zink london                                         checks rayon womens shift dress - green                            Size:Large,Medium,X-Large  Rs\\n2199       879  60% off  Westernwear-Women\n",
            "331          19                     and                          floral polyester round neck womens straight top - sage                                Size:8,10,12,14,16,18  Rs\\n2099      1679  20% off  Westernwear-Women\n",
            "332          20                 altlife                    patch work cotton regular neck womens top and shorts - lilac             Size:Large,Medium,Small,X-Large,XX-Large  Rs\\n1299       649  50% off  Westernwear-Women\n",
            "333          21                    life                        viscose blend collar neck womens regular top - off white              Size:Large,Medium,Small,X-Large,X-Small   Rs\\n899       449  50% off  Westernwear-Women\n",
            "334          22                     Nan                                                                             Nan                                                  Nan       Nan       Nan      Nan  Westernwear-Women\n",
            "335          23                 juniper               printed short sleeves rayon womens full length jumpsuit - mustard             Size:Large,Medium,Small,X-Large,XX-Large  Rs\\n2999      1799  40% off  Westernwear-Women\n",
            "336          24                   kraus                           light wash cotton skinny fit womens jeans - dark blue                                     Size:28,30,32,34  Rs\\n1895       947  50% off  Westernwear-Women\n",
            "337          25             zink london                               printed v neck polyester womens wrap dress - blue             Size:Large,Medium,Small,X-Large,XX-Large  Rs\\n2999      1499  50% off  Westernwear-Women\n",
            "338           0              van heusen                               solid polyester v neck womens formal shirt - pink              Size:Large,Medium,Small,X-Large,X-Small       Nan      1699      Nan  Westernwear-Women\n",
            "339           1              van heusen                                      solid cotton round neck womens top - black              Size:Large,Medium,Small,X-Large,X-Small       Nan       799      Nan  Westernwear-Women\n",
            "340           2                    life                     skinny fit regular length cotton lycra womens jeans - black                               Size:26,28,30,32,34,36  Rs\\n1299       649  50% off  Westernwear-Women\n",
            "341           3                 fratini                             solid cotton blend round neck womens t-shirt - sage             Size:Large,Medium,Small,X-Large,XX-Large       Nan       699      Nan  Westernwear-Women\n",
            "342           4                    stop           regular fit regular length viscose blend womens treggings - black mix                                  Size:28,30,32,34,36   Rs\\n999       499  50% off  Westernwear-Women\n",
            "343           5                  madame               pencil fit above knee cotton blend womens casual skirt - ice blue                               Size:26,28,30,32,34,36  Rs\\n2199      1319  40% off  Westernwear-Women\n",
            "344           6                faballey                    textured georgette square neck womens regular dress - yellow              Size:Large,Medium,Small,X-Large,X-Small  Rs\\n2100      1680  20% off  Westernwear-Women\n",
            "345           7                    stop                            solid polyester tailored fit womens trousers - black                                  Size:28,30,32,34,36       Nan      1499      Nan  Westernwear-Women\n",
            "346           8             zink london                             womens regular fit solid round neck t-shirt - green                                         Size:X-Large  Rs\\n1199       399  67% off  Westernwear-Women\n",
            "347           9                    life                              printed cotton blend hood womens sweatshirt - blue              Size:Large,Medium,Small,X-Large,X-Small  Rs\\n1299       649  50% off  Westernwear-Women\n",
            "348          10                  madame                              solid polyester blend v neck womens dress - indigo             Size:Large,Medium,Small,X-Large,XX-Large  Rs\\n2699      1889  30% off  Westernwear-Women\n",
            "349          11                    only                          all over print cotton round neck womens t-shirt - blue              Size:Large,Medium,Small,X-Large,X-Small  Rs\\n1999      1399  30% off  Westernwear-Women\n",
            "350          12                  infuse                    graphic cotton round neck womens regular fit t-shirt - peach     Size:Large,Medium,Small,X-Large,X-Small,XX-Large   Rs\\n499       199  60% off  Westernwear-Women\n",
            "351          13                    stop                         printed polyester stretch regular fit womens top - wine             Size:Large,Medium,Small,X-Large,XX-Large       Nan       799      Nan  Westernwear-Women\n",
            "352          14                   kraus                           skinny ankle length cotton blend womens jeans - black                               Size:28,30,32,34,36,38  Rs\\n1895      1705  10% off  Westernwear-Women\n",
            "353          15                 altlife                  printed polyester blend regular neck womens t-shirt - old rose     Size:Large,Medium,Small,X-Large,X-Small,XX-Large   Rs\\n799       399  50% off  Westernwear-Women\n",
            "354          16                     and                               floral polyester v neck womens flared top - black                                   Size:8,10,14,16,18  Rs\\n1999      1599  20% off  Westernwear-Women\n",
            "355          17                    rare                         floral polyester round neck womens a-line dress - black                      Size:Large,Medium,Small,X-Large  Rs\\n1899       854  55% off  Westernwear-Women\n",
            "356          18                    life                     skinny fit regular length cotton lycra womens jeans - black                               Size:26,28,30,32,34,36   Rs\\n999       499  50% off  Westernwear-Women\n",
            "357          19                  madame                                    printed polyester mandarin womens top - blue             Size:Large,Medium,Small,X-Large,XX-Large  Rs\\n1699      1019  40% off  Westernwear-Women\n",
            "358          20                    rare                        regular fit calf length crepe womens casual skirt - navy                      Size:Large,Medium,Small,X-Large  Rs\\n1699       764  55% off  Westernwear-Women\n",
            "359          21                 lovegen                         skinny fit ankle length cottonwomens jeans - light blue                                        Size:30,32,34  Rs\\n1999       599  70% off  Westernwear-Women\n",
            "360          22                     Nan                                                                             Nan                                                  Nan       Nan       Nan      Nan  Westernwear-Women\n",
            "361          23                    only                        solid cotton peter pan collar womens casual shirt - blue                                  Size:34,36,38,40,42  Rs\\n2499      1499  40% off  Westernwear-Women\n",
            "362          24             zink london                 regular fit full length viscose womens casual skirt - off white              Size:Large,Medium,Small,X-Large,X-Small  Rs\\n1899      1139  40% off  Westernwear-Women\n",
            "363          25             zink london                               floral polyester square neck womens dress - green     Size:Large,Medium,Small,X-Large,X-Small,XX-Large  Rs\\n2699      1619  40% off  Westernwear-Women\n",
            "364           0                faballey                              textured crepe round neck womens midi dress - blue              Size:Large,Medium,Small,X-Large,X-Small  Rs\\n2800      2240  20% off  Westernwear-Women\n",
            "365           1                  infuse                                        floral v neck rayon womens dress - mauve     Size:Large,Medium,Small,X-Large,X-Small,XX-Large  Rs\\n1299       649  50% off  Westernwear-Women\n",
            "366           2                    only                                    solid cotton regular womens t-shirt - purple              Size:Large,Medium,Small,X-Large,X-Small  Rs\\n1799       899  50% off  Westernwear-Women\n",
            "367           3                    life                         solid polyester blend round neck womens t-shirt - olive              Size:Large,Medium,Small,X-Large,X-Small   Rs\\n999       499  50% off  Westernwear-Women\n",
            "368           4                    rare               solid regular fit polyester womens casual wear trousers - mustard                            Size:Medium,Small,X-Large  Rs\\n1899       759  60% off  Westernwear-Women\n",
            "369           5                    life                   regular fit regular length cotton lycra womens jeans - indigo                                     Size:26,28,30,32   Rs\\n999       499  50% off  Westernwear-Women\n",
            "370           6             zink london                           checks tie up neck cotton womens casual shirt - white             Size:Large,Medium,Small,X-Small,XX-Large  Rs\\n1699      1019  40% off  Westernwear-Women\n",
            "371           7              van heusen                              solid polyester regular fit womens jacket - maroon                      Size:Large,Medium,Small,X-Small  Rs\\n4499      2499  44% off  Westernwear-Women\n",
            "372           8             zink london                                     floral polyester v neck womens dress - pink             Size:Large,Medium,Small,X-Large,XX-Large  Rs\\n3299      1979  40% off  Westernwear-Women\n",
            "373           9             zink london                     solid viscose blend round neck womens straight top - yellow     Size:Large,Medium,Small,X-Large,X-Small,XX-Large  Rs\\n1599       959  40% off  Westernwear-Women\n",
            "374          10                    rare                           solid polyester round neck womens regular top - peach                      Size:Large,Medium,Small,X-Large  Rs\\n1299       519  60% off  Westernwear-Women\n",
            "375          11             zink london                      solid regular fit polyester womens casual trousers - brown                                   Size:Large,X-Large  Rs\\n1999       599  70% off  Westernwear-Women\n",
            "376          12          latin quarters                             dyed round neck cotton womens regular dress - peach                                          Size:S,M,XL  Rs\\n2499      1249  50% off  Westernwear-Women\n",
            "377          13                    rare                          solid polyester round neck womens a-line dress - black                              Size:Large,Medium,Small  Rs\\n1999       899  55% off  Westernwear-Women\n",
            "378          14                   levis                                 graphic cotton round neck womens t-shirt - pink                      Size:Large,Medium,Small,X-Small       Nan       999      Nan  Westernwear-Women\n",
            "379          15                    life                       embroidered cotton blend wide neck womens t-shirt - white              Size:Large,Medium,Small,X-Large,X-Small  Rs\\n1199       599  50% off  Westernwear-Women\n",
            "380          16                  madame                                 solid cotton blend round neck womens top - navy             Size:Large,Medium,Small,X-Large,XX-Large   Rs\\n999       599  40% off  Westernwear-Women\n",
            "381          17               vero moda                                      printed cotton v neck womens dress - white                            Size:Medium,Small,X-Small       Nan      3799      Nan  Westernwear-Women\n",
            "382          18             zink london                               solid sleeveless polyester womens jumpsuit - navy             Size:Large,Medium,Small,X-Large,XX-Large  Rs\\n2799      1679  40% off  Westernwear-Women\n",
            "383          19             forever new                                       printed viscose v neck womens top - print                                 Size:6,8,10,12,14,16  Rs\\n3600      2340  35% off  Westernwear-Women\n",
            "384          20                faballey                       embroidered cotton square neck womens regular top - white              Size:Large,Medium,Small,X-Large,X-Small  Rs\\n1600      1280  20% off  Westernwear-Women\n",
            "385          21                  madame                                      stripes polyester v neck womens top - blue             Size:Large,Medium,Small,X-Large,XX-Large  Rs\\n1799      1259  30% off  Westernwear-Women\n",
            "386          22                     Nan                                                                             Nan                                                  Nan       Nan       Nan      Nan  Westernwear-Women\n",
            "387          23                    life                      embroidered cotton blend wide neck womens t-shirt - orange              Size:Large,Medium,Small,X-Large,X-Small  Rs\\n1199       599  50% off  Westernwear-Women\n",
            "388          24                  madame                           solid cotton blend round neck womens shirts - natural                    Size:Large,Small,X-Large,XX-Large  Rs\\n1799      1259  30% off  Westernwear-Women\n",
            "389          25                  madame                        stripes skinny fit woven polyster womens trousers - mint                                        Size:30,32,34  Rs\\n2699      1619  40% off  Westernwear-Women\n",
            "390           0                    life                      solid cotton blend collar neck womens regular top - indigo              Size:Large,Medium,Small,X-Large,X-Small  Rs\\n1299       649  50% off  Westernwear-Women\n",
            "391           1                faballey            printed sleeveless georgette womens regular length jumpsuit - purple              Size:Large,Medium,Small,X-Large,X-Small  Rs\\n2300      1840  20% off  Westernwear-Women\n",
            "392           2                 fratini                           solid regular fit georgette womens maxi dress - black             Size:Large,Medium,Small,X-Large,XX-Large       Nan      1999      Nan  Westernwear-Women\n",
            "393           3                 fratini                           printed polyester wide neck womens regular top - teal             Size:Large,Medium,Small,X-Large,XX-Large  Rs\\n1199       599  50% off  Westernwear-Women\n",
            "394           4                    stop                         solid nr roma regular neck womens regular dress - black     Size:Large,Medium,Small,X-Large,X-Small,XX-Large  Rs\\n1999       999  50% off  Westernwear-Women\n",
            "395           5                 fratini                     regular fit regular length nr roma womens treggings - black                               Size:26,28,30,32,34,36  Rs\\n1299       649  50% off  Westernwear-Women\n",
            "396           6             zink london                                   lace polyester round neck womens dress - pink     Size:Large,Medium,Small,X-Large,X-Small,XX-Large  Rs\\n2799      1679  40% off  Westernwear-Women\n",
            "397           7                   kraus                               baggy fit ankle length cotton womens jeans - blue                                     Size:28,30,32,34  Rs\\n2095      1466  30% off  Westernwear-Women\n",
            "398           8                     and                        solid round neck polyester womens flared gown - pink mix                                 Size:6,8,10,12,14,16  Rs\\n4299      3439  20% off  Westernwear-Women\n",
            "399           9                   magre                                solid satin cowl neck womens sheath dress - blue                      Size:Large,Medium,Small,X-Small  Rs\\n3790      2084  45% off  Westernwear-Women\n",
            "400          10                    life                         solid viscose round neck womens regular top - off white              Size:Large,Medium,Small,X-Large,X-Small  Rs\\n1299       649  50% off  Westernwear-Women\n",
            "401          11                    life                              skinny fit ankle length denim womens jeans - black                               Size:26,28,30,32,34,36  Rs\\n1499       749  50% off  Westernwear-Women\n",
            "402          12                  madame                               textured cotton round neck womens top - off white                      Size:Large,Medium,Small,X-Large  Rs\\n1499      1049  30% off  Westernwear-Women\n",
            "403          13             zink london                            solid polyester mandarin womens casual shirt - white                              Size:Large,Medium,Small  Rs\\n1499       899  40% off  Westernwear-Women\n",
            "404          14                    life                         patterend wide neck viscose womens regular dress - pink              Size:Large,Medium,Small,X-Large,X-Small  Rs\\n1499       749  50% off  Westernwear-Women\n",
            "405          15             zink london                            embroidered polyester off shoulder womens top - pink     Size:Large,Medium,Small,X-Large,X-Small,XX-Large  Rs\\n1999      1199  40% off  Westernwear-Women\n",
            "406          16                   kraus                           skinny ankle length cotton blend womens jeans - black                               Size:28,30,32,34,36,38  Rs\\n1795      1615  10% off  Westernwear-Women\n",
            "407          17             allen solly                 solid round neck viscose womens fit and flare knit dress - navy                      Size:Large,Medium,Small,X-Small  Rs\\n2299      1379  40% off  Westernwear-Women\n",
            "408          18                     and                            solid cotton collar neck womens straight top - white                                Size:8,10,12,14,16,18  Rs\\n1899      1519  20% off  Westernwear-Women\n",
            "409          19          latin quarters                                    solid polyester womens regular dress - black                               Size:S,M,L,XL,XX-Large       Nan      2999      Nan  Westernwear-Women\n",
            "410          20             zink london                                        printed cotton womens shift dress - blue                                           Size:Large  Rs\\n2799      1119  60% off  Westernwear-Women\n",
            "411          21                    life                      embroidered cotton lycra round neck womens t-shirt - white              Size:Large,Medium,Small,X-Large,X-Small  Rs\\n1199       599  50% off  Westernwear-Women\n",
            "412          22                     Nan                                                                             Nan                                                  Nan       Nan       Nan      Nan  Westernwear-Women\n",
            "413          23                   kraus                             clean look cotton wide fit womens jeans - dark blue                                  Size:28,30,32,34,36  Rs\\n1895      1705  10% off  Westernwear-Women\n",
            "414          24                 juniper     ethnic motifs mandarin neck cambric womens tiered dresses with mask - black             Size:Large,Medium,Small,X-Large,XX-Large  Rs\\n2499       999  60% off  Westernwear-Women\n",
            "415          25             forever new                                  solid polyester cowl neck womens top - fuschia                                  Size:4,6,8,10,12,14       Nan      2400      Nan  Westernwear-Women\n",
            "416           0              van heusen                                     checks polyester v neck womens dress - grey                             Size:Large,Small,X-Small  Rs\\n3499      1499  57% off  Westernwear-Women\n",
            "417           1                    only                                    cotton collarless womens regular top - green                                  Size:34,36,38,40,42  Rs\\n2299      1379  40% off  Westernwear-Women\n",
            "418           2                  madame                               mid wash denim straight fit womens jeans - indigo                                  Size:28,30,32,34,36  Rs\\n2999      2099  30% off  Westernwear-Women\n",
            "419           3             cover story                      solid polyester regular womens casual wear trousers - mint                                  Size:26,28,30,32,34  Rs\\n2590      1813  30% off  Westernwear-Women\n",
            "420           4             cover story                               printed polyester v neck womens maxi dress - navy              Size:Large,Medium,Small,X-Large,X-Small       Nan      3490      Nan  Westernwear-Women\n",
            "421           5              van heusen         textured regular fit polyester blend womens formal wear trousers - navy                                     Size:26,28,30,32  Rs\\n2199       999  55% off  Westernwear-Women\n",
            "422           6          latin quarters                      solid shirt collar cotton womens regular fit dress - brown                                               Size:S  Rs\\n1999       799  60% off  Westernwear-Women\n",
            "423           7                    rare                striped polyester mandarin collar womens shirt style top - peach                              Size:Large,Medium,Small  Rs\\n1599       559  65% off  Westernwear-Women\n",
            "424           8                   kraus                        skinny fit ankle length cotton blend womens jeans - blue                               Size:28,30,32,34,36,38  Rs\\n1995      1396  30% off  Westernwear-Women\n",
            "425           9             zink london                                     solid cotton round neck womens dress - pink     Size:Large,Medium,Small,X-Large,X-Small,XX-Large  Rs\\n2399      1439  40% off  Westernwear-Women\n",
            "426          10                 altlife                       printed cotton stretch full length womens joggers - black                                  Size:28,30,32,34,36  Rs\\n1299       649  50% off  Westernwear-Women\n",
            "427          11                 fratini                   regular fit regular length cotton blend womens jeans - indigo                               Size:26,28,30,32,34,36  Rs\\n1299       649  50% off  Westernwear-Women\n",
            "428          12                 altlife                        solid polyester blend ankle length womens tights - black                                  Size:28,30,32,34,36  Rs\\n1299       649  50% off  Westernwear-Women\n",
            "429          13                    life                             printed cotton blend collar neck womens top - brown              Size:Large,Medium,Small,X-Large,X-Small   Rs\\n899       449  50% off  Westernwear-Women\n",
            "430          14             zink london                                  solid cotton tie up neck� womens dress - green                            Size:Large,Medium,X-Large  Rs\\n2799      1679  40% off  Westernwear-Women\n",
            "431          15                 insense                        printed regular fit cotton womens pyjama set - black mix                      Size:Large,Medium,Small,X-Large   Rs\\n999       499  50% off  Westernwear-Women\n",
            "432          16             zink london                              solid regular fit polyester womens joggers - black                            Size:Large,Medium,X-Large  Rs\\n1799      1079  40% off  Westernwear-Women\n",
            "433          17                    stop                 printed regular neck cotton stretch womens formal shirt - ocean             Size:Large,Medium,Small,X-Large,XX-Large   Rs\\n999       499  50% off  Westernwear-Women\n",
            "434          18             zink london                                   lace polyester round neck womens dress - pink             Size:Large,Medium,Small,X-Large,XX-Large  Rs\\n3299      1979  40% off  Westernwear-Women\n",
            "435          19                    life                          regular fit regular length denim womens jeans - indigo                               Size:26,28,30,32,34,36  Rs\\n1699       849  50% off  Westernwear-Women\n",
            "436          20                  infuse                            solid round neck viscose womens regular dress - pink                             Size:Large,Small,X-Small  Rs\\n1499       749  50% off  Westernwear-Women\n",
            "437          21                    only                         heavy wash cotton regular fit womens jeans - light blue                                              Size:34  Rs\\n3699      2959  20% off  Westernwear-Women\n",
            "438          22                     Nan                                                                             Nan                                                  Nan       Nan       Nan      Nan  Westernwear-Women\n",
            "439          23          latin quarters                                  solid nylon blend womens regular dress - black                               Size:S,M,L,XL,XX-Large       Nan      2999      Nan  Westernwear-Women\n",
            "440          24             zink london                           solid viscose blend round neck womens top - off white     Size:Large,Medium,Small,X-Large,X-Small,XX-Large  Rs\\n1599       959  40% off  Westernwear-Women\n",
            "441          25             allen solly                         solid polyester regular fit womens trousers - chocolate                                  Size:28,30,32,34,36  Rs\\n1999      1199  40% off  Westernwear-Women\n",
            "442           0             zink london                             womens regular fit solid round neck t-shirt - green                      Size:Large,Medium,Small,X-Large  Rs\\n1199       399  67% off  Westernwear-Women\n",
            "443           1             allen solly                                  solid rayon regular fit womens trousers - navy                               Size:26,28,30,32,34,36  Rs\\n1299      1039  20% off  Westernwear-Women\n",
            "444           2               vero moda                                   printed polyester v neck womens dress - black                      Size:Large,Medium,Small,X-Small       Nan      3499      Nan  Westernwear-Women\n",
            "445           3                     and                                     solid polyester crew neck womens top - teal                                      Size:8,10,14,18  Rs\\n2699      1754  35% off  Westernwear-Women\n",
            "446           4          latin quarters                                   solid nylon blend womens regular dress - blue                               Size:S,M,L,XL,XX-Large       Nan      2999      Nan  Westernwear-Women\n",
            "447           5                     and                    solid polyester square neck womens flared gown - powder blue                                   Size:8,10,12,14,16  Rs\\n4899      3919  20% off  Westernwear-Women\n",
            "448           6             allen solly                    printed round neck viscose womens fit and flare dress - grey                      Size:Large,Medium,Small,X-Large  Rs\\n2299      1379  40% off  Westernwear-Women\n",
            "449           7                    life                             solid cotton collar neck womens regular top - black              Size:Large,Medium,Small,X-Large,X-Small   Rs\\n999       499  50% off  Westernwear-Women\n",
            "450           8                    life                               regular fit ankle length denim womens jeans - ice                               Size:26,28,30,32,34,36  Rs\\n1999       999  50% off  Westernwear-Women\n",
            "451           9                    life                 printed polyester round neck womens active wear t-shirt - mauve     Size:Large,Medium,Small,X-Large,X-Small,XX-Large   Rs\\n499       249  50% off  Westernwear-Women\n",
            "452          10                 altlife                    printed cotton round neck womens active wear t-shirt - black     Size:Large,Medium,Small,X-Large,X-Small,XX-Large   Rs\\n399       199  50% off  Westernwear-Women\n",
            "453          11                 altlife                               printed cotton regular neck womens t-shirt - wine     Size:Large,Medium,Small,X-Large,X-Small,XX-Large   Rs\\n499       249  50% off  Westernwear-Women\n",
            "454          12                 altlife               regular fit thigh length cotton womens active wear shorts - black                                  Size:28,30,32,34,36   Rs\\n499       249  50% off  Westernwear-Women\n",
            "455          13                    rare                                     printed crepe round neck womens top - black                      Size:Large,Medium,Small,X-Large  Rs\\n1199       539  55% off  Westernwear-Women\n",
            "456          14             zink london                          solid collar neck polyester womens casual coat - black                      Size:Large,Medium,Small,X-Large  Rs\\n1799      1079  40% off  Westernwear-Women\n",
            "457          15                    life                        printed cotton round neck womens regular t-shirt - white              Size:Large,Medium,Small,X-Large,X-Small   Rs\\n599       299  50% off  Westernwear-Women\n",
            "458          16                    life                  striped cotton blend collar neck womens t-shirt - grey melange              Size:Large,Medium,Small,X-Large,X-Small   Rs\\n799       399  50% off  Westernwear-Women\n",
            "459          17                 altlife                    solid polyester blend ankle length womens tights - dark grey                                  Size:28,30,32,34,36  Rs\\n1299       649  50% off  Westernwear-Women\n",
            "460          18          latin quarters                           dyed round neck polyester womens regular dress - pink                                             Size:S,L  Rs\\n2499       799  68% off  Westernwear-Women\n",
            "461          19                   levis                tapered fit regular length cotton blend womens jeans - dk indigo                                     Size:26,28,30,32       Nan      3399      Nan  Westernwear-Women\n",
            "462          20          latin quarters                             dyed v-neck polyester womens regular dress - maroon                       Size:S,M,L,XL,X-Small,XX-Large  Rs\\n2499       799  68% off  Westernwear-Women\n",
            "463          21                     and                          embroidered polyester square neck womens top - magenta                                              Size:12  Rs\\n1899       759  60% off  Westernwear-Women\n",
            "464          22                     Nan                                                                             Nan                                                  Nan       Nan       Nan      Nan  Westernwear-Women\n",
            "465          23                 fratini         sanya malhotra stripes cotton blend v-neck womens regular top - natural             Size:Large,Medium,Small,X-Large,XX-Large       Nan       999      Nan  Westernwear-Women\n",
            "466          24                 fratini                             printed v neck viscose womens regular dress - black                      Size:Large,Medium,Small,X-Large  Rs\\n1499       749  50% off  Westernwear-Women\n",
            "467          25             zink london                                abstract viscose blend v neck womens top - green     Size:Large,Medium,Small,X-Large,X-Small,XX-Large  Rs\\n1799      1079  40% off  Westernwear-Women\n",
            "468           0                     and                solid 3/4 sleeves polyester womens regular jumpsuit - light blue                                   Size:8,10,12,14,16  Rs\\n3899      3119  20% off  Westernwear-Women\n",
            "469           1                    rare                       floral georgette off shoulder womens flared dress - white                              Size:Large,Medium,Small  Rs\\n1899       854  55% off  Westernwear-Women\n",
            "470           2                 fratini                          solid cotton blend v-neck womens a-line dress - yellow             Size:Large,Medium,Small,X-Large,XX-Large       Nan      1699      Nan  Westernwear-Women\n",
            "471           3                    stop                            solid polyester skinny fit womens trousers - natural                                  Size:28,30,32,34,36       Nan      1499      Nan  Westernwear-Women\n",
            "472           4                    life                            solid viscose blend round neck womens t-shirt - blue              Size:Large,Medium,Small,X-Large,X-Small   Rs\\n699       349  50% off  Westernwear-Women\n",
            "473           5                    life                embroidered cotton lycra round neck womens t-shirt - powder blue              Size:Large,Medium,Small,X-Large,X-Small  Rs\\n1199       599  50% off  Westernwear-Women\n",
            "474           6                    only                                    checks cotton round neck womens top - yellow                                  Size:34,36,38,40,42  Rs\\n2499      1499  40% off  Westernwear-Women\n",
            "475           7              van heusen                                printed modal round neck womens top - light blue              Size:Large,Medium,Small,X-Large,X-Small  Rs\\n2299       999  57% off  Westernwear-Women\n",
            "476           8                    rare                                 solid rayon mandarin womens regular top - black                              Size:Large,Medium,Small  Rs\\n1299       584  55% off  Westernwear-Women\n",
            "477           9  calvin klein underwear                                  solid nylon blend womens regular dress - black                               Size:S,M,L,XL,XX-Large  Rs\\n2999      2099  30% off  Westernwear-Women\n",
            "478          10                     and                             solid v neck polyester womens flared dresses - pink                                   Size:8,10,12,14,16  Rs\\n2499      1999  20% off  Westernwear-Women\n",
            "479          11                   levis                            light wash cotton straight fit womens jeans - indigo                                  Size:26,28,30,32,34       Nan      4599      Nan  Westernwear-Women\n",
            "480          12                    life                       regular fit mid length twill womens casual shorts - black                                  Size:26,28,30,32,34   Rs\\n799       399  50% off  Westernwear-Women\n",
            "481          13                     and                        floral round neck polyester womens regular dress - white                                      Size:8,10,12,14  Rs\\n2899      2319  20% off  Westernwear-Women\n",
            "482          14                    life                            solid viscose blend wide neck womens t-shirt - white              Size:Large,Medium,Small,X-Large,X-Small  Rs\\n1299       649  50% off  Westernwear-Women\n",
            "483          15                 fratini                        printed cotton round neck womens regular t-shirt - black                    Size:Large,Small,X-Large,XX-Large   Rs\\n699       349  50% off  Westernwear-Women\n",
            "484          16                    life                                   printed crepe v neck womens maxi dress - blue              Size:Large,Medium,Small,X-Large,X-Small  Rs\\n1499       749  50% off  Westernwear-Women\n",
            "485          17          latin quarters                                  solid polyester womens regular blouse - maroon                                               Size:S  Rs\\n1599       799  50% off  Westernwear-Women\n",
            "486          18                 fratini                   printed square neck viscose womens regular dress - light blue             Size:Large,Medium,Small,X-Large,XX-Large  Rs\\n1699       849  50% off  Westernwear-Women\n",
            "487          19                  infuse                       checks viscose v-neck womens regular fit woven top - navy             Size:Large,Medium,Small,X-Large,XX-Large   Rs\\n999       399  60% off  Westernwear-Women\n",
            "488          20             zink london                            solid collared neck rayon womens a-line dress - blue              Size:Large,Medium,Small,X-Large,X-Small  Rs\\n2299       699  70% off  Westernwear-Women\n",
            "489          21                    stop                         solid satin regular neck womens regular dress - mustard             Size:Large,Medium,Small,X-Large,XX-Large  Rs\\n1999       999  50% off  Westernwear-Women\n",
            "490          22                     Nan                                                                             Nan                                                  Nan       Nan       Nan      Nan  Westernwear-Women\n",
            "491          23                 fratini                          printed viscose v neck womens regular top - light blue             Size:Large,Medium,Small,X-Large,XX-Large   Rs\\n999       499  50% off  Westernwear-Women\n",
            "492          24             zink london                                  printed viscose round neck womens dress - pink     Size:Large,Medium,Small,X-Large,X-Small,XX-Large  Rs\\n2899      1739  40% off  Westernwear-Women\n",
            "493          25                     and                             foil viscose square neck womens flared dress - gold                                              Size:12  Rs\\n2699      2429  10% off  Westernwear-Women\n",
            "494           0                   indya                                    embellished silk blend womens shrug - purple     Size:Large,Medium,Small,X-Large,X-Small,XX-Large  Rs\\n1600      1280  20% off  Westernwear-Women\n",
            "495           1                 altlife                                 solid cotton full length womens joggers - lilac                                  Size:28,30,32,34,36   Rs\\n999       499  50% off  Westernwear-Women\n",
            "496           2                  madame                          solid cotton regular fit womens casual trousers - mint                                  Size:28,30,32,34,36  Rs\\n2699      1619  40% off  Westernwear-Women\n",
            "497           3                     and                      printed collar neck linen womens straight jumpsuits - pink                                 Size:6,8,10,12,14,16       Nan      3899      Nan  Westernwear-Women\n",
            "498           4                 juniper     ethnic motifs mandarin neck cambric womens tiered dresses with mask - peach             Size:Large,Medium,Small,X-Large,XX-Large  Rs\\n3499      1574  55% off  Westernwear-Women\n",
            "499           5                     and                       floral polyester square neck womens regular dress - white                                   Size:8,10,14,16,18  Rs\\n2899      2319  20% off  Westernwear-Women\n"
          ]
        }
      ]
    },
    {
      "cell_type": "markdown",
      "source": [
        "## 1. Plot 3 histograms for the frequencies for real distribution, equal-weight and Bernford (for each digit)"
      ],
      "metadata": {
        "id": "VAPs4AA8bWR3"
      }
    },
    {
      "cell_type": "code",
      "source": [
        "df['real_distirbution'] = df['SellPrice'].astype(str).str[:1]\n",
        "df = df[df.real_distirbution != 'N']\n",
        "real_dist = df['real_distirbution'].value_counts(normalize=True) * 100\n",
        "real_dist = df['real_distirbution'].value_counts(normalize=True)\n",
        "df_2 = real_dist.to_frame()\n",
        "df_all = real_dist.to_frame()\n",
        "df_all = df_all.sort_index()\n",
        "df_2 = df_2.sort_index()\n",
        "df_2['real_distirbution']\n"
      ],
      "metadata": {
        "colab": {
          "base_uri": "https://localhost:8080/"
        },
        "id": "ARFu6pqKZARB",
        "outputId": "3507d796-5e96-4faa-9a82-a10f451f9024"
      },
      "execution_count": null,
      "outputs": [
        {
          "output_type": "execute_result",
          "data": {
            "text/plain": [
              "1    0.348267\n",
              "2    0.166560\n",
              "3    0.082739\n",
              "4    0.074320\n",
              "5    0.061775\n",
              "6    0.062519\n",
              "7    0.073711\n",
              "8    0.057751\n",
              "9    0.072358\n",
              "Name: real_distirbution, dtype: float64"
            ]
          },
          "metadata": {},
          "execution_count": 54
        }
      ]
    },
    {
      "cell_type": "markdown",
      "source": [
        "## Real Distirbution graph"
      ],
      "metadata": {
        "id": "PwDzC_1vbj75"
      }
    },
    {
      "cell_type": "code",
      "source": [
        "ax = df_2.plot.bar(rot=0, color='green')"
      ],
      "metadata": {
        "colab": {
          "base_uri": "https://localhost:8080/",
          "height": 265
        },
        "id": "EnxI8N4brauj",
        "outputId": "434099a8-d4aa-4932-dd3a-8bd08bd04ec2"
      },
      "execution_count": null,
      "outputs": [
        {
          "output_type": "display_data",
          "data": {
            "text/plain": [
              "<Figure size 432x288 with 1 Axes>"
            ],
            "image/png": "[encoded data removed]"
          },
          "metadata": {
            "needs_background": "light"
          }
        }
      ]
    },
    {
      "cell_type": "markdown",
      "source": [
        "## Benford distirbution graph"
      ],
      "metadata": {
        "id": "sXt-6X5kbn1M"
      }
    },
    {
      "cell_type": "code",
      "source": [
        "import matplotlib.pyplot as plt\n",
        "from math import log10\n",
        "def benford(n):\n",
        "    return log10(n+1) - log10(n)\n",
        "x = [i for i in range(1, 10)]\n",
        "results = [benford(i) for i in x]\n",
        "df_all['benford'] = results\n",
        "fig, ax = plt.subplots()\n",
        "plt.bar(x, results, color='red')\n",
        "plt.xticks(x, x)\n",
        "ax_3 = plt.show()"
      ],
      "metadata": {
        "colab": {
          "base_uri": "https://localhost:8080/",
          "height": 265
        },
        "id": "nlkE5Nd01UUl",
        "outputId": "76b18636-dcf9-4298-ac71-e297af9f1959"
      },
      "execution_count": null,
      "outputs": [
        {
          "output_type": "display_data",
          "data": {
            "text/plain": [
              "<Figure size 432x288 with 1 Axes>"
            ],
            "image/png": "[encoded data removed]"
          },
          "metadata": {
            "needs_background": "light"
          }
        }
      ]
    },
    {
      "cell_type": "markdown",
      "source": [
        "## Equal Distirbution Graph"
      ],
      "metadata": {
        "id": "iqoWVYkKbuow"
      }
    },
    {
      "cell_type": "code",
      "source": [
        "data = {'number': [1, 2, 3, 4, 5, 6, 7, 8, 9], 'equal_frequency': [1/9, 1/9, 1/9, 1/9, 1/9, 1/9, 1/9, 1/9, 1/9]}\n",
        "df_3 = pd.DataFrame.from_dict(data)\n",
        "df_all['equal'] = data['equal_frequency']\n",
        "df_3\n",
        "ax_1 = df_3.plot.bar(x='number', y='equal_frequency', rot=0)"
      ],
      "metadata": {
        "colab": {
          "base_uri": "https://localhost:8080/",
          "height": 279
        },
        "id": "j39ezArN7aW7",
        "outputId": "6cd63700-8934-4820-e2c4-0852329d4f4e"
      },
      "execution_count": null,
      "outputs": [
        {
          "output_type": "display_data",
          "data": {
            "text/plain": [
              "<Figure size 432x288 with 1 Axes>"
            ],
            "image/png": "[encoded data removed]"
          },
          "metadata": {
            "needs_background": "light"
          }
        }
      ]
    },
    {
      "cell_type": "markdown",
      "source": [
        "## 2. plot 2 histograms for the relative errors for Models 1 and 2 (for each digit)\n"
      ],
      "metadata": {
        "id": "5pnEKwRYbyPa"
      }
    },
    {
      "cell_type": "code",
      "source": [
        "df_all['benford_relative_errors'] = (df_all['real_distirbution'] - df_all['benford'])/ df_all['benford']\n",
        "df_all['equal_relative_errors'] = (df_all['real_distirbution'] - df_all['equal'])/ df_all['equal']\n",
        "df_all"
      ],
      "metadata": {
        "colab": {
          "base_uri": "https://localhost:8080/",
          "height": 332
        },
        "id": "QgLQYfOZK8GM",
        "outputId": "d923c637-db23-4263-b190-b4ac2f773579"
      },
      "execution_count": null,
      "outputs": [
        {
          "output_type": "execute_result",
          "data": {
            "text/plain": [
              "   real_distirbution   benford     equal  benford_relative_errors  \\\n",
              "1           0.348267  0.301030  0.111111                 0.156918   \n",
              "2           0.166560  0.176091  0.111111                -0.054129   \n",
              "3           0.082739  0.124939  0.111111                -0.337765   \n",
              "4           0.074320  0.096910  0.111111                -0.233108   \n",
              "5           0.061775  0.079181  0.111111                -0.219826   \n",
              "6           0.062519  0.066947  0.111111                -0.066139   \n",
              "7           0.073711  0.057992  0.111111                 0.271054   \n",
              "8           0.057751  0.051153  0.111111                 0.129006   \n",
              "9           0.072358  0.045757  0.111111                 0.581346   \n",
              "\n",
              "   equal_relative_errors  \n",
              "1               2.134404  \n",
              "2               0.499036  \n",
              "3              -0.255351  \n",
              "4              -0.331124  \n",
              "5              -0.444024  \n",
              "6              -0.437329  \n",
              "7              -0.336602  \n",
              "8              -0.480237  \n",
              "9              -0.348774  "
            ],
            "text/html": [
              "\n",
              "  <div id=\"df-484be813-cdd0-487c-9a72-4ed768150f18\">\n",
              "    <div class=\"colab-df-container\">\n",
              "      <div>\n",
              "<style scoped>\n",
              "    .dataframe tbody tr th:only-of-type {\n",
              "        vertical-align: middle;\n",
              "    }\n",
              "\n",
              "    .dataframe tbody tr th {\n",
              "        vertical-align: top;\n",
              "    }\n",
              "\n",
              "    .dataframe thead th {\n",
              "        text-align: right;\n",
              "    }\n",
              "</style>\n",
              "<table border=\"1\" class=\"dataframe\">\n",
              "  <thead>\n",
              "    <tr style=\"text-align: right;\">\n",
              "      <th></th>\n",
              "      <th>real_distirbution</th>\n",
              "      <th>benford</th>\n",
              "      <th>equal</th>\n",
              "      <th>benford_relative_errors</th>\n",
              "      <th>equal_relative_errors</th>\n",
              "    </tr>\n",
              "  </thead>\n",
              "  <tbody>\n",
              "    <tr>\n",
              "      <th>1</th>\n",
              "      <td>0.348267</td>\n",
              "      <td>0.301030</td>\n",
              "      <td>0.111111</td>\n",
              "      <td>0.156918</td>\n",
              "      <td>2.134404</td>\n",
              "    </tr>\n",
              "    <tr>\n",
              "      <th>2</th>\n",
              "      <td>0.166560</td>\n",
              "      <td>0.176091</td>\n",
              "      <td>0.111111</td>\n",
              "      <td>-0.054129</td>\n",
              "      <td>0.499036</td>\n",
              "    </tr>\n",
              "    <tr>\n",
              "      <th>3</th>\n",
              "      <td>0.082739</td>\n",
              "      <td>0.124939</td>\n",
              "      <td>0.111111</td>\n",
              "      <td>-0.337765</td>\n",
              "      <td>-0.255351</td>\n",
              "    </tr>\n",
              "    <tr>\n",
              "      <th>4</th>\n",
              "      <td>0.074320</td>\n",
              "      <td>0.096910</td>\n",
              "      <td>0.111111</td>\n",
              "      <td>-0.233108</td>\n",
              "      <td>-0.331124</td>\n",
              "    </tr>\n",
              "    <tr>\n",
              "      <th>5</th>\n",
              "      <td>0.061775</td>\n",
              "      <td>0.079181</td>\n",
              "      <td>0.111111</td>\n",
              "      <td>-0.219826</td>\n",
              "      <td>-0.444024</td>\n",
              "    </tr>\n",
              "    <tr>\n",
              "      <th>6</th>\n",
              "      <td>0.062519</td>\n",
              "      <td>0.066947</td>\n",
              "      <td>0.111111</td>\n",
              "      <td>-0.066139</td>\n",
              "      <td>-0.437329</td>\n",
              "    </tr>\n",
              "    <tr>\n",
              "      <th>7</th>\n",
              "      <td>0.073711</td>\n",
              "      <td>0.057992</td>\n",
              "      <td>0.111111</td>\n",
              "      <td>0.271054</td>\n",
              "      <td>-0.336602</td>\n",
              "    </tr>\n",
              "    <tr>\n",
              "      <th>8</th>\n",
              "      <td>0.057751</td>\n",
              "      <td>0.051153</td>\n",
              "      <td>0.111111</td>\n",
              "      <td>0.129006</td>\n",
              "      <td>-0.480237</td>\n",
              "    </tr>\n",
              "    <tr>\n",
              "      <th>9</th>\n",
              "      <td>0.072358</td>\n",
              "      <td>0.045757</td>\n",
              "      <td>0.111111</td>\n",
              "      <td>0.581346</td>\n",
              "      <td>-0.348774</td>\n",
              "    </tr>\n",
              "  </tbody>\n",
              "</table>\n",
              "</div>\n",
              "      <button class=\"colab-df-convert\" onclick=\"convertToInteractive('df-484be813-cdd0-487c-9a72-4ed768150f18')\"\n",
              "              title=\"Convert this dataframe to an interactive table.\"\n",
              "              style=\"display:none;\">\n",
              "        \n",
              "  <svg xmlns=\"http://www.w3.org/2000/svg\" height=\"24px\"viewBox=\"0 0 24 24\"\n",
              "       width=\"24px\">\n",
              "    <path d=\"M0 0h24v24H0V0z\" fill=\"none\"/>\n",
              "    <path d=\"M18.56 5.44l.94 2.06.94-2.06 2.06-.94-2.06-.94-.94-2.06-.94 2.06-2.06.94zm-11 1L8.5 8.5l.94-2.06 2.06-.94-2.06-.94L8.5 2.5l-.94 2.06-2.06.94zm10 10l.94 2.06.94-2.06 2.06-.94-2.06-.94-.94-2.06-.94 2.06-2.06.94z\"/><path d=\"M17.41 7.96l-1.37-1.37c-.4-.4-.92-.59-1.43-.59-.52 0-1.04.2-1.43.59L10.3 9.45l-7.72 7.72c-.78.78-.78 2.05 0 2.83L4 21.41c.39.39.9.59 1.41.59.51 0 1.02-.2 1.41-.59l7.78-7.78 2.81-2.81c.8-.78.8-2.07 0-2.86zM5.41 20L4 18.59l7.72-7.72 1.47 1.35L5.41 20z\"/>\n",
              "  </svg>\n",
              "      </button>\n",
              "      \n",
              "  <style>\n",
              "    .colab-df-container {\n",
              "      display:flex;\n",
              "      flex-wrap:wrap;\n",
              "      gap: 12px;\n",
              "    }\n",
              "\n",
              "    .colab-df-convert {\n",
              "      background-color: #E8F0FE;\n",
              "      border: none;\n",
              "      border-radius: 50%;\n",
              "      cursor: pointer;\n",
              "      display: none;\n",
              "      fill: #1967D2;\n",
              "      height: 32px;\n",
              "      padding: 0 0 0 0;\n",
              "      width: 32px;\n",
              "    }\n",
              "\n",
              "    .colab-df-convert:hover {\n",
              "      background-color: #E2EBFA;\n",
              "      box-shadow: 0px 1px 2px rgba(60, 64, 67, 0.3), 0px 1px 3px 1px rgba(60, 64, 67, 0.15);\n",
              "      fill: #174EA6;\n",
              "    }\n",
              "\n",
              "    [theme=dark] .colab-df-convert {\n",
              "      background-color: #3B4455;\n",
              "      fill: #D2E3FC;\n",
              "    }\n",
              "\n",
              "    [theme=dark] .colab-df-convert:hover {\n",
              "      background-color: #434B5C;\n",
              "      box-shadow: 0px 1px 3px 1px rgba(0, 0, 0, 0.15);\n",
              "      filter: drop-shadow(0px 1px 2px rgba(0, 0, 0, 0.3));\n",
              "      fill: #FFFFFF;\n",
              "    }\n",
              "  </style>\n",
              "\n",
              "      <script>\n",
              "        const buttonEl =\n",
              "          document.querySelector('#df-484be813-cdd0-487c-9a72-4ed768150f18 button.colab-df-convert');\n",
              "        buttonEl.style.display =\n",
              "          google.colab.kernel.accessAllowed ? 'block' : 'none';\n",
              "\n",
              "        async function convertToInteractive(key) {\n",
              "          const element = document.querySelector('#df-484be813-cdd0-487c-9a72-4ed768150f18');\n",
              "          const dataTable =\n",
              "            await google.colab.kernel.invokeFunction('convertToInteractive',\n",
              "                                                     [key], {});\n",
              "          if (!dataTable) return;\n",
              "\n",
              "          const docLinkHtml = 'Like what you see? Visit the ' +\n",
              "            '<a target=\"_blank\" href=https://colab.research.google.com/notebooks/data_table.ipynb>data table notebook</a>'\n",
              "            + ' to learn more about interactive tables.';\n",
              "          element.innerHTML = '';\n",
              "          dataTable['output_type'] = 'display_data';\n",
              "          await google.colab.output.renderOutput(dataTable, element);\n",
              "          const docLink = document.createElement('div');\n",
              "          docLink.innerHTML = docLinkHtml;\n",
              "          element.appendChild(docLink);\n",
              "        }\n",
              "      </script>\n",
              "    </div>\n",
              "  </div>\n",
              "  "
            ]
          },
          "metadata": {},
          "execution_count": 85
        }
      ]
    },
    {
      "cell_type": "markdown",
      "source": [
        "## RELATIVE ERROR OF BENFORD VALUES WITH REAL VALUES"
      ],
      "metadata": {
        "id": "oF705nEj2vIf"
      }
    },
    {
      "cell_type": "code",
      "source": [
        "ax_benford = df_all['benford_relative_errors'].plot.bar(rot=0, color='black', title='BENFORD')"
      ],
      "metadata": {
        "colab": {
          "base_uri": "https://localhost:8080/",
          "height": 281
        },
        "id": "3y5kw8WX2r05",
        "outputId": "11933ffd-a8c8-492e-93f4-46124fb24110"
      },
      "execution_count": null,
      "outputs": [
        {
          "output_type": "display_data",
          "data": {
            "text/plain": [
              "<Figure size 432x288 with 1 Axes>"
            ],
            "image/png": "[encoded data removed]"
          },
          "metadata": {
            "needs_background": "light"
          }
        }
      ]
    },
    {
      "cell_type": "markdown",
      "source": [
        "## RELATIVE ERROR OF EQUAL VALUES WITH REAL VALUES"
      ],
      "metadata": {
        "id": "u117j4QA25nM"
      }
    },
    {
      "cell_type": "code",
      "source": [
        "ax_equal = df_all['equal_relative_errors'].plot.bar(rot=0, color='yellow', title='EQUAL')"
      ],
      "metadata": {
        "colab": {
          "base_uri": "https://localhost:8080/",
          "height": 281
        },
        "id": "7W8XMF4u0sXH",
        "outputId": "2563e035-0690-4f2a-f204-d8d077ecdc62"
      },
      "execution_count": null,
      "outputs": [
        {
          "output_type": "display_data",
          "data": {
            "text/plain": [
              "<Figure size 432x288 with 1 Axes>"
            ],
            "image/png": "[encoded data removed]"
          },
          "metadata": {
            "needs_background": "light"
          }
        }
      ]
    },
    {
      "cell_type": "markdown",
      "source": [
        "## 3. Compute RMSE (root mean squared error) for model 1 and 2. Which model is closer to the real distribution?"
      ],
      "metadata": {
        "id": "4lYSs_1Bb2X0"
      }
    },
    {
      "cell_type": "code",
      "source": [
        "from sklearn.metrics import mean_squared_error\n",
        "from math import sqrt\n",
        "\n",
        "rmse_1 = sqrt(mean_squared_error(df_2['real_distirbution'], df_3['equal_frequency']))\n",
        "rmse_2 = sqrt(mean_squared_error(df_2['real_distirbution'], results))\n",
        "print(\"RMSE between real distirbution and equal distirbutiond----> \\n\", rmse_1)\n",
        "print(\"\\n \\n RMSE between real distirbution and equal distirbutiond----> \\n\", rmse_2)\n"
      ],
      "metadata": {
        "colab": {
          "base_uri": "https://localhost:8080/"
        },
        "id": "U8SDbyYCb5cW",
        "outputId": "412b2cd4-6bd7-4b97-81e0-76c7d4f71381"
      },
      "execution_count": null,
      "outputs": [
        {
          "output_type": "stream",
          "name": "stdout",
          "text": [
            "RMSE between real distirbution and equal distirbutiond----> \n",
            " 0.08945460709433146\n",
            "\n",
            " \n",
            " RMSE between real distirbution and equal distirbutiond----> \n",
            " 0.025677879113395724\n"
          ]
        }
      ]
    },
    {
      "cell_type": "markdown",
      "source": [
        "## 4. Take 3 categories of your choice For each of these categories do the following: (a) compute F , P and π. (b) using RMSE as a ”distance” metric, for which of these chosen three coun- tries is the distribution ”closest” to equal weight P ?"
      ],
      "metadata": {
        "id": "eJ0b1oxu5ycB"
      }
    },
    {
      "cell_type": "code",
      "source": [
        "def get_category_distirbution(df):\n",
        "  df['real_distirbution'] = df['SellPrice'].astype(str).str[:1]\n",
        "  df = df[df.real_distirbution != 'N']\n",
        "  real_dist = df['real_distirbution'].value_counts(normalize=True)\n",
        "  df_F_1 = real_dist.to_frame()\n",
        "  df_F_1 = df_F_1.sort_index()\n",
        "  return df_F_1\n",
        "\n",
        "df_chosen = df[df['Category'].isin(['Westernwear-Women', 'Indianwear-Women', 'Lingerie&Nightwear-Women'])]\n",
        "df_chosen_western = df_chosen[df['Category'].isin(['Westernwear-Women'])]\n",
        "df_chosen_indian = df_chosen[df['Category'].isin(['Indianwear-Women'])]\n",
        "df_chosen_lingerie = df_chosen[df['Category'].isin(['Lingerie&Nightwear-Women'])]\n",
        "\n",
        "df_F_1 = get_category_distirbution(df_chosen_western)\n",
        "df_F_2 = get_category_distirbution(df_chosen_indian)\n",
        "df_F_3 = get_category_distirbution(df_chosen_lingerie)\n",
        "\n",
        "rmse_western_equal = sqrt(mean_squared_error(df_F_1['real_distirbution'], df_3['equal_frequency']))\n",
        "rmse_western_benford = sqrt(mean_squared_error(df_F_1['real_distirbution'], results))\n",
        "rmse_indian_equal = sqrt(mean_squared_error(df_F_2['real_distirbution'], df_3['equal_frequency']))\n",
        "rmse_indian_benford = sqrt(mean_squared_error(df_F_2['real_distirbution'], results))\n",
        "rmse_lingerie_equal = sqrt(mean_squared_error(df_F_3['real_distirbution'], df_3['equal_frequency']))\n",
        "rmse_lingerie_benford = sqrt(mean_squared_error(df_F_3['real_distirbution'], results))\n",
        "print(\"Frequency distirbution of WESTERN WEAR \\n\", df_F_1)\n",
        "print(\"\\n \\n Frequency distirbution of INDIAN WEAR \\n\", df_F_2)\n",
        "print(\"\\n \\n Frequency distirbution of LINGERIE \\n\", df_F_3)\n",
        "\n",
        "print(\"\\n \\n RMSE western with equal frequency---->\", rmse_western_equal)\n",
        "print(\"\\n \\n RMSE western with benford frequency---->\", rmse_western_benford)\n",
        "print(\"\\n \\n RMSE indian with equal frequency---->\", rmse_indian_equal)\n",
        "print(\"\\n \\n RMSE indian with benford frequency---->\", rmse_indian_benford)\n",
        "print(\"\\n \\n RMSE lingerie with equal frequency---->\", rmse_lingerie_equal)\n",
        "print(\"\\n \\n RMSE lingerie with benford frequency---->\", rmse_lingerie_benford, \"\\n\\n\")\n"
      ],
      "metadata": {
        "colab": {
          "base_uri": "https://localhost:8080/"
        },
        "id": "uUfBdmbu566d",
        "outputId": "b16f6f5d-51f8-4b5e-942b-4ef86ddbbe0c"
      },
      "execution_count": null,
      "outputs": [
        {
          "output_type": "stream",
          "name": "stdout",
          "text": [
            "Frequency distirbution of WESTERN WEAR \n",
            "    real_distirbution\n",
            "1           0.406416\n",
            "2           0.131328\n",
            "3           0.060251\n",
            "4           0.063459\n",
            "5           0.044411\n",
            "6           0.056541\n",
            "7           0.076391\n",
            "8           0.063759\n",
            "9           0.097444\n",
            "\n",
            " \n",
            " Frequency distirbution of INDIAN WEAR \n",
            "    real_distirbution\n",
            "1           0.368020\n",
            "2           0.188972\n",
            "3           0.065965\n",
            "4           0.060852\n",
            "5           0.056942\n",
            "6           0.056742\n",
            "7           0.079298\n",
            "8           0.061454\n",
            "9           0.061754\n",
            "\n",
            " \n",
            " Frequency distirbution of LINGERIE \n",
            "    real_distirbution\n",
            "1           0.255194\n",
            "2           0.167442\n",
            "3           0.098915\n",
            "4           0.091783\n",
            "5           0.104806\n",
            "6           0.081240\n",
            "7           0.086822\n",
            "8           0.055504\n",
            "9           0.058295\n",
            "\n",
            " \n",
            " RMSE western with equal frequency----> 0.10725489654674382\n",
            "\n",
            " \n",
            " RMSE western with benford frequency----> 0.05044208800559665\n",
            "\n",
            " \n",
            " RMSE indian with equal frequency----> 0.09912562868257971\n",
            "\n",
            " \n",
            " RMSE indian with benford frequency----> 0.034715279549116046\n",
            "\n",
            " \n",
            " RMSE lingerie with equal frequency----> 0.059497009198666365\n",
            "\n",
            " \n",
            " RMSE lingerie with benford frequency----> 0.022967406015159755 \n",
            "\n",
            "\n"
          ]
        },
        {
          "output_type": "stream",
          "name": "stderr",
          "text": [
            "/usr/local/lib/python3.7/dist-packages/ipykernel_launcher.py:10: UserWarning: Boolean Series key will be reindexed to match DataFrame index.\n",
            "  # Remove the CWD from sys.path while we load stuff.\n",
            "/usr/local/lib/python3.7/dist-packages/ipykernel_launcher.py:11: UserWarning: Boolean Series key will be reindexed to match DataFrame index.\n",
            "  # This is added back by InteractiveShellApp.init_path()\n",
            "/usr/local/lib/python3.7/dist-packages/ipykernel_launcher.py:12: UserWarning: Boolean Series key will be reindexed to match DataFrame index.\n",
            "  if sys.path[0] == '':\n",
            "/usr/local/lib/python3.7/dist-packages/ipykernel_launcher.py:2: SettingWithCopyWarning: \n",
            "A value is trying to be set on a copy of a slice from a DataFrame.\n",
            "Try using .loc[row_indexer,col_indexer] = value instead\n",
            "\n",
            "See the caveats in the documentation: https://pandas.pydata.org/pandas-docs/stable/user_guide/indexing.html#returning-a-view-versus-a-copy\n",
            "  \n"
          ]
        }
      ]
    },
    {
      "cell_type": "markdown",
      "source": [
        "## 5. Discuss your findings."
      ],
      "metadata": {
        "id": "b4eOtnb08hxd"
      }
    },
    {
      "cell_type": "markdown",
      "source": [
        "1. Westernwear has more prices starting with 1 compared to Indian wear and Lingerie wear."
      ],
      "metadata": {
        "id": "fQnVExFNAwU5"
      }
    },
    {
      "cell_type": "markdown",
      "source": [
        "2. Indian wear has more prices starting with 1's more than Lingerie wear"
      ],
      "metadata": {
        "id": "60CQfHu5CgEv"
      }
    },
    {
      "cell_type": "markdown",
      "source": [
        "3. RMSE for all 3 categories is more with Benford values than equal values"
      ],
      "metadata": {
        "id": "cqHOzNu_DW8E"
      }
    },
    {
      "cell_type": "markdown",
      "source": [
        "4. For Real distirbution of the complete table, Benford values are approximate for the numbers 1, 2, 5, 6, and 8"
      ],
      "metadata": {
        "id": "y-oHdRX2EA7T"
      }
    }
  ]
}